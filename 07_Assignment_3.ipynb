{
 "cells": [
  {
   "cell_type": "markdown",
   "metadata": {},
   "source": [
    "# Introductory applied machine learning (INFR10069)"
   ]
  },
  {
   "cell_type": "markdown",
   "metadata": {},
   "source": [
    "# Assignment 3: Object recognition"
   ]
  },
  {
   "cell_type": "markdown",
   "metadata": {},
   "source": [
    "## Marking Breakdown\n",
    "\n",
    "**70-100%** results/answer correct plus extra achievement at understanding or analysis of results. Clear explanations, evidence of creative or deeper thought will contribute to a higher grade.\n",
    "\n",
    "**60-69%** results/answer correct or nearly correct and well explained.\n",
    "\n",
    "**50-59%** results/answer in right direction but significant errors.\n",
    "\n",
    "**40-49%** some evidence that the student has gained some understanding, but not answered the questions\n",
    "properly.\n",
    "\n",
    "**0-39%** serious error or slack work."
   ]
  },
  {
   "cell_type": "markdown",
   "metadata": {},
   "source": [
    "## Mechanics\n",
    "\n",
    "Fill out this notebook, save it, and submit it **and a `.txt` file** (see Part 2) in answer to this assignment.\n",
    "**You need to submit these two files electronically as described below.**\n",
    "\n",
    "On a DICE environment, open the terminal, navigate to the location of this notebook, and submit this notebook file using the following command:\n",
    "\n",
    "`submit iaml cw2 07_Assignment_3.ipynb assignment_3_predictions.txt`\n",
    "\n",
    "What actually happens in the background is that your file is placed in a folder available to markers. If you submit a file with the same name into the same location, **it will *overwrite* your previous submission**. You can check the status of your submissions with the `show_submissions` command.\n",
    "\n",
    "**Distance Learners:** To copy your work up to DICE (such that you can use the `submit` command) you can use `scp` or `rsync` (you may need to install these yourself). You can copy files up using `student.ssh.inf.ed.ac.uk`, then ssh in to submit, e.g. (in a unix terminal):\n",
    "```\n",
    "filename1=07_Assignment_3.ipynb\n",
    "local_scp_filepath1=~/git/iaml2017/${filename1}\n",
    "filename2=assignment_3_predictions.txt\n",
    "local_scp_filepath2=~/git/iaml2017/${filename2}\n",
    "UUN=s0816700\n",
    "server_address=student.ssh.inf.ed.ac.uk\n",
    "scp -r ${local_scp_filepath1} ${UUN}@${server_address}:${filename1}\n",
    "scp -r ${local_scp_filepath2} ${UUN}@${server_address}:${filename2}\n",
    "# rsync -rl ${local_scp_filepath1} ${UUN}@${server_address}:${filename1}\n",
    "# rsync -rl ${local_scp_filepath2} ${UUN}@${server_address}:${filename2}\n",
    "ssh ${UUN}@${server_address}\n",
    "ssh student.login\n",
    "submit iaml cw2 07_Assignment_3.ipynb assignment_3_predictions.txt\n",
    "```\n",
    "\n",
    "**Late submissions:** The policy stated in the School of Informatics MSc Degree Guide is that normally you will not be allowed to submit coursework late. See http://www.inf.ed.ac.uk/teaching/years/msc/courseguide10.html#exam for exceptions to this, e.g. in case of serious medical illness or serious personal problems.\n",
    "\n",
    "**Collaboration:** You may discuss the assignment with your colleagues, provided that the writing that you submit is entirely your own. That is, you should NOT borrow actual text or code from other students. We ask that you provide a list of the people who you've had discussions with (if any).\n",
    "\n",
    "**Resubmission:** If you submit your file again, the previous submission is **overwritten**. We will mark the version that is in the submission folder at the deadline."
   ]
  },
  {
   "cell_type": "markdown",
   "metadata": {},
   "source": [
    "## Important Instructions\n",
    "\n",
    "1. You *MUST* have your environment set up as in the [README](https://github.com/JamesOwers/iaml2017) and you *must activate this environment before running this notebook*:\n",
    "```\n",
    "source activate iaml\n",
    "cd iaml_2017\n",
    "jupyter notebook\n",
    "# Navigate to this file\n",
    "```\n",
    "\n",
    "1. Wherever you are required to produce code you should use code cells, otherwise you should use markdown cells to report results and explain answers.\n",
    "\n",
    "1. The .csv files that you will be using are located at `./datasets` (the `datasets` directory is adjacent to this file).\n",
    "\n",
    "1. **IMPORTANT:** Keep your answers brief and concise. Most written questions can be answered with 2-3 lines of explanation."
   ]
  },
  {
   "cell_type": "markdown",
   "metadata": {},
   "source": [
    "## Imports\n",
    "\n",
    "Include all required imports and execute the cell below. It's typical to include package imports at the top of the file for clarity."
   ]
  },
  {
   "cell_type": "code",
   "execution_count": 113,
   "metadata": {
    "collapsed": true
   },
   "outputs": [],
   "source": [
    "from __future__ import print_function, division\n",
    "%matplotlib inline\n",
    "import pandas as pd\n",
    "import seaborn as sns\n",
    "sns.set(style=\"darkgrid\")\n",
    "import matplotlib.pyplot as plt\n",
    "from sklearn.dummy import DummyClassifier\n",
    "from sklearn.linear_model import LogisticRegression, LogisticRegressionCV\n",
    "from sklearn.metrics import classification_report, roc_curve, auc\n",
    "from sklearn.preprocessing import StandardScaler\n",
    "import numpy as np\n",
    "from sklearn.model_selection import KFold\n",
    "from sklearn.ensemble import RandomForestClassifier\n",
    "from sklearn.svm import SVC\n",
    "from numpy import unravel_index\n",
    "# Your code goes here"
   ]
  },
  {
   "cell_type": "markdown",
   "metadata": {},
   "source": [
    "## Description of the dataset\n",
    "In this assignment our goal is to recognize objects in images of realistic scenes. There are 19 different classes of object e.g. person, dog, cat, car, etc. The dataset derives from several thousands photographs harvested from the web. Each object of a relevant class has been manually annotated with a bounding box. Images can contain none, one or multiple objects of each class. We have prepared a [website](http://www.inf.ed.ac.uk/teaching/courses/iaml/2014/assts/asst3/images.html) where you can view the images.\n",
    "\n",
    "We are going to detect whether images contain a person or not - a binary classification problem. To save you time and to make the problem manageable with limited computational resources, we have preprocessed the dataset. We will use the [Bag of Visual Words](https://en.wikipedia.org/wiki/Bag-of-words_model_in_computer_vision) representation. Each column of the dataset (which is not an lable), refers to a 'visual word'. Each image is represented by a 500 dimensional vector that contains the normalized count for each of 500 different visual words present in the respective image (a similar representation is used for the spambase dataset, just for real words). See the Appendix at the bottom of the notebook for more information. The image data is thus a $N \\times 500$ dimensional matrix where `N` is the number of images.\n",
    "\n",
    "The full dataset has 520 attributes (dimensions). The first attribute (`imgID`) contains the image ID which allows you to associate a data point with an actual image. The next 500 attributes (`dim1`, ..., `dim500`) are a normalized count vector for each visual word. The last 19 attributes (`is_class`) are the labels - 1 means the class is present in the image. In most of the experiments (unless explicitly noted otherwise) you will only need the `is_person` attribute and the 500 dimensional feature vector. **Do not use the additional class indicator attributes as features** unless explicitly told to do so. \n",
    "\n",
    "In Part A we provide you with a training (`train_images partA.csv`) and a validation (`valid_images partA .csv`) dataset. In Part B we provide three data sets: a training set (`train_images partB.csv`), a validation set (`valid_images partB.csv`), and a test set (`test_images partB.csv`). The training and validation set contain valid labels. In the test set the labels are missing. The files are available from the GitHub repository. \n",
    "\n",
    "**Important**: *Throughout the assignment you will be given various versions of the dataset that are relevant\n",
    "to a particular question. Please be careful to use the correct version of the dataset when instructed to do so.\n",
    "If you use the wrong version of the dataset by mistake no marks will be awarded.*"
   ]
  },
  {
   "cell_type": "markdown",
   "metadata": {},
   "source": [
    "## 1. Exploration of the dataset [70%]"
   ]
  },
  {
   "cell_type": "markdown",
   "metadata": {},
   "source": [
    "### ========== Question 1.1 --- [1 mark] ==========\n",
    "Create two Pandas DataFrame objects called `train_A` and `valid_A` by loading the datasets `train_images_partA.csv` and `valid_images_partA.csv`. Display the number of data points and attributes in each of the two datasets."
   ]
  },
  {
   "cell_type": "code",
   "execution_count": 2,
   "metadata": {},
   "outputs": [
    {
     "name": "stdout",
     "output_type": "stream",
     "text": [
      "Number of training instances  2093\n",
      "Number of training attributes  520\n",
      "Number of validation instances  1113\n",
      "Number of validation attributes  520\n"
     ]
    }
   ],
   "source": [
    "# Your code goes here\n",
    "trainA = pd.read_csv('datasets/train_images_partA.csv')\n",
    "validA = pd.read_csv('datasets/valid_images_partA.csv')\n",
    "print('Number of training instances ', trainA.shape[0])\n",
    "print('Number of training attributes ', trainA.shape[1])\n",
    "print('Number of validation instances ', validA.shape[0])\n",
    "print('Number of validation attributes ', validA.shape[1])"
   ]
  },
  {
   "cell_type": "markdown",
   "metadata": {},
   "source": [
    "### ========== Question 1.2 --- [1 mark] ==========\n",
    "Display and inspect the first 10 instances in the training dataset."
   ]
  },
  {
   "cell_type": "code",
   "execution_count": 3,
   "metadata": {},
   "outputs": [
    {
     "data": {
      "text/html": [
       "<div>\n",
       "<style>\n",
       "    .dataframe thead tr:only-child th {\n",
       "        text-align: right;\n",
       "    }\n",
       "\n",
       "    .dataframe thead th {\n",
       "        text-align: left;\n",
       "    }\n",
       "\n",
       "    .dataframe tbody tr th {\n",
       "        vertical-align: top;\n",
       "    }\n",
       "</style>\n",
       "<table border=\"1\" class=\"dataframe\">\n",
       "  <thead>\n",
       "    <tr style=\"text-align: right;\">\n",
       "      <th></th>\n",
       "      <th>imgId</th>\n",
       "      <th>dim1</th>\n",
       "      <th>dim2</th>\n",
       "      <th>dim3</th>\n",
       "      <th>dim4</th>\n",
       "      <th>dim5</th>\n",
       "      <th>dim6</th>\n",
       "      <th>dim7</th>\n",
       "      <th>dim8</th>\n",
       "      <th>dim9</th>\n",
       "      <th>...</th>\n",
       "      <th>is_cow</th>\n",
       "      <th>is_diningtable</th>\n",
       "      <th>is_dog</th>\n",
       "      <th>is_horse</th>\n",
       "      <th>is_motorbike</th>\n",
       "      <th>is_person</th>\n",
       "      <th>is_pottedplant</th>\n",
       "      <th>is_sheep</th>\n",
       "      <th>is_sofa</th>\n",
       "      <th>is_tvmonitor</th>\n",
       "    </tr>\n",
       "  </thead>\n",
       "  <tbody>\n",
       "    <tr>\n",
       "      <th>0</th>\n",
       "      <td>2008_000008</td>\n",
       "      <td>0.002232</td>\n",
       "      <td>0.000558</td>\n",
       "      <td>0.002790</td>\n",
       "      <td>0.000837</td>\n",
       "      <td>0.001674</td>\n",
       "      <td>0.001953</td>\n",
       "      <td>0.001395</td>\n",
       "      <td>0.002232</td>\n",
       "      <td>0.003627</td>\n",
       "      <td>...</td>\n",
       "      <td>0</td>\n",
       "      <td>0</td>\n",
       "      <td>0</td>\n",
       "      <td>1</td>\n",
       "      <td>0</td>\n",
       "      <td>1</td>\n",
       "      <td>0</td>\n",
       "      <td>0</td>\n",
       "      <td>0</td>\n",
       "      <td>0</td>\n",
       "    </tr>\n",
       "    <tr>\n",
       "      <th>1</th>\n",
       "      <td>2008_000015</td>\n",
       "      <td>0.001563</td>\n",
       "      <td>0.000391</td>\n",
       "      <td>0.007422</td>\n",
       "      <td>0.003516</td>\n",
       "      <td>0.003906</td>\n",
       "      <td>0.005078</td>\n",
       "      <td>0.001953</td>\n",
       "      <td>0.002344</td>\n",
       "      <td>0.001953</td>\n",
       "      <td>...</td>\n",
       "      <td>0</td>\n",
       "      <td>0</td>\n",
       "      <td>0</td>\n",
       "      <td>0</td>\n",
       "      <td>0</td>\n",
       "      <td>0</td>\n",
       "      <td>0</td>\n",
       "      <td>0</td>\n",
       "      <td>0</td>\n",
       "      <td>0</td>\n",
       "    </tr>\n",
       "    <tr>\n",
       "      <th>2</th>\n",
       "      <td>2008_000019</td>\n",
       "      <td>0.000521</td>\n",
       "      <td>0.000000</td>\n",
       "      <td>0.000000</td>\n",
       "      <td>0.001042</td>\n",
       "      <td>0.001563</td>\n",
       "      <td>0.005729</td>\n",
       "      <td>0.000521</td>\n",
       "      <td>0.002083</td>\n",
       "      <td>0.003646</td>\n",
       "      <td>...</td>\n",
       "      <td>0</td>\n",
       "      <td>0</td>\n",
       "      <td>1</td>\n",
       "      <td>0</td>\n",
       "      <td>0</td>\n",
       "      <td>0</td>\n",
       "      <td>0</td>\n",
       "      <td>0</td>\n",
       "      <td>0</td>\n",
       "      <td>0</td>\n",
       "    </tr>\n",
       "    <tr>\n",
       "      <th>3</th>\n",
       "      <td>2008_000023</td>\n",
       "      <td>0.002976</td>\n",
       "      <td>0.002232</td>\n",
       "      <td>0.004464</td>\n",
       "      <td>0.000372</td>\n",
       "      <td>0.000372</td>\n",
       "      <td>0.002232</td>\n",
       "      <td>0.000000</td>\n",
       "      <td>0.003720</td>\n",
       "      <td>0.000000</td>\n",
       "      <td>...</td>\n",
       "      <td>0</td>\n",
       "      <td>0</td>\n",
       "      <td>0</td>\n",
       "      <td>0</td>\n",
       "      <td>0</td>\n",
       "      <td>1</td>\n",
       "      <td>0</td>\n",
       "      <td>0</td>\n",
       "      <td>0</td>\n",
       "      <td>1</td>\n",
       "    </tr>\n",
       "    <tr>\n",
       "      <th>4</th>\n",
       "      <td>2008_000028</td>\n",
       "      <td>0.001359</td>\n",
       "      <td>0.000340</td>\n",
       "      <td>0.001359</td>\n",
       "      <td>0.000340</td>\n",
       "      <td>0.001359</td>\n",
       "      <td>0.002038</td>\n",
       "      <td>0.002378</td>\n",
       "      <td>0.000000</td>\n",
       "      <td>0.003397</td>\n",
       "      <td>...</td>\n",
       "      <td>0</td>\n",
       "      <td>0</td>\n",
       "      <td>0</td>\n",
       "      <td>0</td>\n",
       "      <td>0</td>\n",
       "      <td>0</td>\n",
       "      <td>0</td>\n",
       "      <td>0</td>\n",
       "      <td>0</td>\n",
       "      <td>0</td>\n",
       "    </tr>\n",
       "    <tr>\n",
       "      <th>5</th>\n",
       "      <td>2008_000033</td>\n",
       "      <td>0.000000</td>\n",
       "      <td>0.006324</td>\n",
       "      <td>0.000372</td>\n",
       "      <td>0.000372</td>\n",
       "      <td>0.000372</td>\n",
       "      <td>0.000372</td>\n",
       "      <td>0.000744</td>\n",
       "      <td>0.008185</td>\n",
       "      <td>0.000372</td>\n",
       "      <td>...</td>\n",
       "      <td>0</td>\n",
       "      <td>0</td>\n",
       "      <td>0</td>\n",
       "      <td>0</td>\n",
       "      <td>0</td>\n",
       "      <td>0</td>\n",
       "      <td>0</td>\n",
       "      <td>0</td>\n",
       "      <td>0</td>\n",
       "      <td>0</td>\n",
       "    </tr>\n",
       "    <tr>\n",
       "      <th>6</th>\n",
       "      <td>2008_000036</td>\n",
       "      <td>0.000340</td>\n",
       "      <td>0.000000</td>\n",
       "      <td>0.004416</td>\n",
       "      <td>0.000340</td>\n",
       "      <td>0.000679</td>\n",
       "      <td>0.006114</td>\n",
       "      <td>0.001359</td>\n",
       "      <td>0.002717</td>\n",
       "      <td>0.003057</td>\n",
       "      <td>...</td>\n",
       "      <td>0</td>\n",
       "      <td>0</td>\n",
       "      <td>0</td>\n",
       "      <td>0</td>\n",
       "      <td>0</td>\n",
       "      <td>1</td>\n",
       "      <td>0</td>\n",
       "      <td>0</td>\n",
       "      <td>0</td>\n",
       "      <td>0</td>\n",
       "    </tr>\n",
       "    <tr>\n",
       "      <th>7</th>\n",
       "      <td>2008_000037</td>\n",
       "      <td>0.000837</td>\n",
       "      <td>0.002232</td>\n",
       "      <td>0.000279</td>\n",
       "      <td>0.000279</td>\n",
       "      <td>0.000837</td>\n",
       "      <td>0.000000</td>\n",
       "      <td>0.000279</td>\n",
       "      <td>0.006696</td>\n",
       "      <td>0.000000</td>\n",
       "      <td>...</td>\n",
       "      <td>0</td>\n",
       "      <td>0</td>\n",
       "      <td>0</td>\n",
       "      <td>0</td>\n",
       "      <td>0</td>\n",
       "      <td>0</td>\n",
       "      <td>0</td>\n",
       "      <td>0</td>\n",
       "      <td>0</td>\n",
       "      <td>0</td>\n",
       "    </tr>\n",
       "    <tr>\n",
       "      <th>8</th>\n",
       "      <td>2008_000041</td>\n",
       "      <td>0.002378</td>\n",
       "      <td>0.001359</td>\n",
       "      <td>0.004755</td>\n",
       "      <td>0.001019</td>\n",
       "      <td>0.003736</td>\n",
       "      <td>0.001359</td>\n",
       "      <td>0.001019</td>\n",
       "      <td>0.004076</td>\n",
       "      <td>0.003397</td>\n",
       "      <td>...</td>\n",
       "      <td>0</td>\n",
       "      <td>1</td>\n",
       "      <td>0</td>\n",
       "      <td>0</td>\n",
       "      <td>0</td>\n",
       "      <td>1</td>\n",
       "      <td>0</td>\n",
       "      <td>0</td>\n",
       "      <td>0</td>\n",
       "      <td>0</td>\n",
       "    </tr>\n",
       "    <tr>\n",
       "      <th>9</th>\n",
       "      <td>2008_000045</td>\n",
       "      <td>0.001019</td>\n",
       "      <td>0.000340</td>\n",
       "      <td>0.006454</td>\n",
       "      <td>0.001698</td>\n",
       "      <td>0.001359</td>\n",
       "      <td>0.003736</td>\n",
       "      <td>0.000000</td>\n",
       "      <td>0.004076</td>\n",
       "      <td>0.000000</td>\n",
       "      <td>...</td>\n",
       "      <td>0</td>\n",
       "      <td>0</td>\n",
       "      <td>0</td>\n",
       "      <td>0</td>\n",
       "      <td>0</td>\n",
       "      <td>0</td>\n",
       "      <td>0</td>\n",
       "      <td>0</td>\n",
       "      <td>0</td>\n",
       "      <td>0</td>\n",
       "    </tr>\n",
       "  </tbody>\n",
       "</table>\n",
       "<p>10 rows × 520 columns</p>\n",
       "</div>"
      ],
      "text/plain": [
       "         imgId      dim1      dim2      dim3      dim4      dim5      dim6  \\\n",
       "0  2008_000008  0.002232  0.000558  0.002790  0.000837  0.001674  0.001953   \n",
       "1  2008_000015  0.001563  0.000391  0.007422  0.003516  0.003906  0.005078   \n",
       "2  2008_000019  0.000521  0.000000  0.000000  0.001042  0.001563  0.005729   \n",
       "3  2008_000023  0.002976  0.002232  0.004464  0.000372  0.000372  0.002232   \n",
       "4  2008_000028  0.001359  0.000340  0.001359  0.000340  0.001359  0.002038   \n",
       "5  2008_000033  0.000000  0.006324  0.000372  0.000372  0.000372  0.000372   \n",
       "6  2008_000036  0.000340  0.000000  0.004416  0.000340  0.000679  0.006114   \n",
       "7  2008_000037  0.000837  0.002232  0.000279  0.000279  0.000837  0.000000   \n",
       "8  2008_000041  0.002378  0.001359  0.004755  0.001019  0.003736  0.001359   \n",
       "9  2008_000045  0.001019  0.000340  0.006454  0.001698  0.001359  0.003736   \n",
       "\n",
       "       dim7      dim8      dim9      ...       is_cow  is_diningtable  is_dog  \\\n",
       "0  0.001395  0.002232  0.003627      ...            0               0       0   \n",
       "1  0.001953  0.002344  0.001953      ...            0               0       0   \n",
       "2  0.000521  0.002083  0.003646      ...            0               0       1   \n",
       "3  0.000000  0.003720  0.000000      ...            0               0       0   \n",
       "4  0.002378  0.000000  0.003397      ...            0               0       0   \n",
       "5  0.000744  0.008185  0.000372      ...            0               0       0   \n",
       "6  0.001359  0.002717  0.003057      ...            0               0       0   \n",
       "7  0.000279  0.006696  0.000000      ...            0               0       0   \n",
       "8  0.001019  0.004076  0.003397      ...            0               1       0   \n",
       "9  0.000000  0.004076  0.000000      ...            0               0       0   \n",
       "\n",
       "   is_horse  is_motorbike  is_person  is_pottedplant  is_sheep  is_sofa  \\\n",
       "0         1             0          1               0         0        0   \n",
       "1         0             0          0               0         0        0   \n",
       "2         0             0          0               0         0        0   \n",
       "3         0             0          1               0         0        0   \n",
       "4         0             0          0               0         0        0   \n",
       "5         0             0          0               0         0        0   \n",
       "6         0             0          1               0         0        0   \n",
       "7         0             0          0               0         0        0   \n",
       "8         0             0          1               0         0        0   \n",
       "9         0             0          0               0         0        0   \n",
       "\n",
       "   is_tvmonitor  \n",
       "0             0  \n",
       "1             0  \n",
       "2             0  \n",
       "3             1  \n",
       "4             0  \n",
       "5             0  \n",
       "6             0  \n",
       "7             0  \n",
       "8             0  \n",
       "9             0  \n",
       "\n",
       "[10 rows x 520 columns]"
      ]
     },
     "execution_count": 3,
     "metadata": {},
     "output_type": "execute_result"
    }
   ],
   "source": [
    "# Your code goes here\n",
    "trainA.head(10)"
   ]
  },
  {
   "cell_type": "markdown",
   "metadata": {},
   "source": [
    "### ========== Question 1.3 --- [1 mark] ==========\n",
    "Select the attributes (i.e. input features) for training our classifiers. These should be the visual word normalised counts `dim1, dim2, ..., dim500`. Create a list of the **names** of the attributes of interest. "
   ]
  },
  {
   "cell_type": "code",
   "execution_count": 4,
   "metadata": {
    "collapsed": true
   },
   "outputs": [],
   "source": [
    "# Your code goes here\n",
    "attributes = trainA.columns[1:501].values"
   ]
  },
  {
   "cell_type": "markdown",
   "metadata": {},
   "source": [
    "### ========== Question 1.4 --- [1 mark] ==========\n",
    "By using the list from Question 1.3 now create 4 numpy arrays `X_tr`, `X_val`, `y_tr` and `y_val` in which to store the training features, validation features, training targets, and validation targets, respectively. Your target vectors should correspond to the `is_person` attribute of the training and validation sets. Display the dimensionalities (i.e shapes) of the 4 arrays. \n",
    "\n",
    "Check this carefully - you will be penalised in following questions if the data is not correct!"
   ]
  },
  {
   "cell_type": "code",
   "execution_count": 5,
   "metadata": {
    "collapsed": true
   },
   "outputs": [],
   "source": [
    "# Your code goes here\n",
    "target = 'is_person'\n",
    "X_tr = trainA[attributes]\n",
    "X_val = validA[attributes]\n",
    "y_tr = trainA[target]\n",
    "y_val = validA[target]"
   ]
  },
  {
   "cell_type": "markdown",
   "metadata": {},
   "source": [
    "### ========== Question 1.5 --- [2 marks] ==========\n",
    "Create a [countplots](https://seaborn.github.io/generated/seaborn.countplot.html?highlight=countplot#seaborn.countplot) for the training and validation targets. Create a single figure, and put the two plots inside the single figure. Label axes appropriately and add a title to your plot. Use descriptive `xticklabels` instead of the default numeric ones."
   ]
  },
  {
   "cell_type": "code",
   "execution_count": 6,
   "metadata": {},
   "outputs": [
    {
     "data": {
      "text/plain": [
       "<matplotlib.text.Text at 0x116a813c8>"
      ]
     },
     "execution_count": 6,
     "metadata": {},
     "output_type": "execute_result"
    },
    {
     "data": {
      "image/png": "[encoded data removed]",
      "text/plain": [
       "<matplotlib.figure.Figure at 0x10af1ce48>"
      ]
     },
     "metadata": {},
     "output_type": "display_data"
    }
   ],
   "source": [
    "# Your code goes here\n",
    "fig = plt.figure()\n",
    "\n",
    "ax1 = fig.add_subplot(221)\n",
    "ax1 = sns.countplot(x=target,data = trainA)\n",
    "ax2 = fig.add_subplot(222)\n",
    "ax2 = sns.countplot(x=target,data = validA)\n",
    "ax2.set_ylabel(\"\")\n",
    "ax1.set_xticklabels(['Not a person', 'Is a person'])\n",
    "ax2.set_xticklabels(['Not a person', 'Is a person'])\n",
    "\n",
    "plt.title(\"CountPlot of the target class for training and validation set.\")"
   ]
  },
  {
   "cell_type": "markdown",
   "metadata": {},
   "source": [
    "### ========== Question 1.6 --- [1 mark] ==========\n",
    "We want to make a baseline classification accuracy to beat. Pick a baseline \"dummy\" classifier, describe in a sentence why you chose it, and report the accuracy it achieves on the validation set?"
   ]
  },
  {
   "cell_type": "markdown",
   "metadata": {},
   "source": [
    "*Your answer goes here*\n",
    "I would go with a dummy classifier that just predicts the most frequent label in the training target value, which is 0 (Not a person) in 'is_person attribute'. Random classifier might give us a good accuracy once in a while and as it is not reliable I am down with a classifier that always predicts 0 as the output."
   ]
  },
  {
   "cell_type": "code",
   "execution_count": 7,
   "metadata": {},
   "outputs": [
    {
     "name": "stdout",
     "output_type": "stream",
     "text": [
      "Score of the baseline model (dummy classifier):  0.526504941599\n"
     ]
    }
   ],
   "source": [
    "# Your code goes here\n",
    "dummy_model = DummyClassifier(strategy='most_frequent',random_state=0)\n",
    "dummy_model.fit(X_tr, y_tr)\n",
    "print('Score of the baseline model (dummy classifier): ',dummy_model.score(X_val, y_val))"
   ]
  },
  {
   "cell_type": "markdown",
   "metadata": {},
   "source": [
    "### ========== Question 1.7 --- [3 marks] ==========\n",
    "Train a [`LogisticRegression`](http://scikit-learn.org/0.17/modules/generated/sklearn.linear_model.LogisticRegression.html) classifier using default settings, except for the `solver` parameter which you should set to `lbfgs`. Report the classification accuracy score on the training and validation sets and compare with the baseline. Comment on the results with 1-2 sentences. You may include any additional plot(s) if you wish to justify your explanation."
   ]
  },
  {
   "cell_type": "code",
   "execution_count": 8,
   "metadata": {},
   "outputs": [
    {
     "name": "stdout",
     "output_type": "stream",
     "text": [
      "Logistic regression score on validation set 0.526504941599\n",
      "Logistic regression score on training set 0.55088389871\n",
      "             precision    recall  f1-score   support\n",
      "\n",
      "          0       0.53      1.00      0.69       586\n",
      "          1       0.00      0.00      0.00       527\n",
      "\n",
      "avg / total       0.28      0.53      0.36      1113\n",
      "\n"
     ]
    },
    {
     "name": "stderr",
     "output_type": "stream",
     "text": [
      "/anaconda/lib/python3.6/site-packages/sklearn/metrics/classification.py:1113: UndefinedMetricWarning: Precision and F-score are ill-defined and being set to 0.0 in labels with no predicted samples.\n",
      "  'precision', 'predicted', average, warn_for)\n"
     ]
    },
    {
     "data": {
      "image/png": "[encoded data removed]",
      "text/plain": [
       "<matplotlib.figure.Figure at 0x11696bef0>"
      ]
     },
     "metadata": {},
     "output_type": "display_data"
    }
   ],
   "source": [
    "# Your code goes here\n",
    "log_regress = LogisticRegression(solver = \"lbfgs\")\n",
    "log_regress.fit(X_tr,y_tr)\n",
    "y_pred_log = log_regress.predict(X_val)\n",
    "print(\"Logistic regression score on validation set\",log_regress.score(X_val, y_val))\n",
    "print(\"Logistic regression score on training set\",log_regress.score(X_tr,y_tr))\n",
    "print(classification_report(y_val, y_pred_log, target_names=[\"0\",\"1\"]))\n",
    "probability = log_regress.predict_proba(X_val)\n",
    "plt.plot(probability)\n",
    "plt.ylabel('some numbers')\n",
    "plt.show()\n"
   ]
  },
  {
   "cell_type": "markdown",
   "metadata": {},
   "source": [
    "*Your answer goes here*\n",
    "As you can see, the score of logistic regression is as same as the dummy classifier. Dummy classifier just assigned the label with the higher prior value (which is 0, not a person). Logistic regression tries to fit a linear curve and applies a non linear curve eventually. Still, the score is low and as exactly same as the dummy classifier. This leads to the thought that logistic regression outputs zeroes for all datapoints and as you can see in the plot above, the probability for every instance is below 0.5 for value 1 and above 0.5 for value 0. Hence, the result. Blue curve for value 0 and green curve for value 1."
   ]
  },
  {
   "cell_type": "markdown",
   "metadata": {},
   "source": [
    "### ========== Question 1.8 --- [1 mark] ==========\n",
    "Display the means and standard deviations of the first 5 features in the training set. *Hint: you want to compute the means and standard deviations for each column in your arrays. Make sure you make appropriate use of the `axis` parameter.*"
   ]
  },
  {
   "cell_type": "code",
   "execution_count": 9,
   "metadata": {},
   "outputs": [
    {
     "name": "stdout",
     "output_type": "stream",
     "text": [
      "Mean of dim1 :\n",
      "0.0019998839999999956\n",
      "STD of dim1 :\n",
      "0.001703522037782436\n",
      "Mean of dim2 :\n",
      "0.0020000579999999973\n",
      "STD of dim2 :\n",
      "0.0016943279130055009\n",
      "Mean of dim3 :\n",
      "0.0020000739999999962\n",
      "STD of dim3 :\n",
      "0.0022940422123116527\n",
      "Mean of dim4 :\n",
      "0.001999886000000001\n",
      "STD of dim4 :\n",
      "0.0018128189988106651\n",
      "Mean of dim5 :\n",
      "0.0019999739999999925\n",
      "STD of dim5 :\n",
      "0.002152774603694642\n"
     ]
    }
   ],
   "source": [
    "# Your code goes here\n",
    "first_five_columns_mean = []\n",
    "first_five_columns_std = []\n",
    "first_five_columns = X_tr.iloc[0:5]\n",
    "for i in range(5):\n",
    "    first_five_columns_mean.append(X_tr.iloc[i].mean())\n",
    "    first_five_columns_std.append(X_tr.iloc[i].std())\n",
    "    print(\"Mean of\", X_tr.columns.values[i],\":\")\n",
    "    print(first_five_columns_mean[i])\n",
    "    print(\"STD of\", X_tr.columns.values[i],\":\")\n",
    "    print(first_five_columns_std[i])"
   ]
  },
  {
   "cell_type": "markdown",
   "metadata": {},
   "source": [
    "### ========== Question 1.9 --- [3 marks] ==========\n",
    "Feature standardisation is a pre-processing technique used to transform data so that they have zero mean and unit standard deviation. For many algorithms, this is a very important step for training models (both regression and classification). Read about [feature standardisation](http://scikit-learn.org/0.17/modules/preprocessing.html) and make sure you understand what kind of transformation this method applies to the data.\n",
    "\n",
    "`Scikit-learn` offers a [class](http://scikit-learn.org/0.17/modules/generated/sklearn.preprocessing.StandardScaler.html) for feature standardisation. Instansiate a StandardScaler object and fit it using the **training features**. Use this fitted object to transform both your training and validation features to have a standard scale. \n",
    "\n",
    "Once your training and validation input data have been transformed, display the means and standard deviations of the first 5 attributes for **both** the training and validation sets. Are the results as you expected? Explain your answer in 2-3 sentences. Why didn't we use the validation set to standardise the data?\n",
    "\n",
    "**IMPORTANT: You should use the transformed data for the rest of this part.**"
   ]
  },
  {
   "cell_type": "code",
   "execution_count": 10,
   "metadata": {},
   "outputs": [
    {
     "name": "stdout",
     "output_type": "stream",
     "text": [
      "Training Set:\n",
      "Mean of dim [0]\n",
      "-0.0000000\n",
      "STD\n",
      "1.0000000\n",
      "Mean of dim [1]\n",
      "-0.0000000\n",
      "STD\n",
      "1.0000000\n",
      "Mean of dim [2]\n",
      "0.0000000\n",
      "STD\n",
      "1.0000000\n",
      "Mean of dim [3]\n",
      "0.0000000\n",
      "STD\n",
      "1.0000000\n",
      "Mean of dim [4]\n",
      "-0.0000000\n",
      "STD\n",
      "1.0000000\n",
      "-------------------------------------\n",
      "-------------------------------------\n",
      "-------------------------------------\n",
      "Validation Set:\n",
      "Mean\n",
      "-0.0055061\n",
      "STD\n",
      "1.0131089\n",
      "Mean\n",
      "-0.0382933\n",
      "STD\n",
      "0.9698195\n",
      "Mean\n",
      "0.1091510\n",
      "STD\n",
      "1.0492285\n",
      "Mean\n",
      "0.0936931\n",
      "STD\n",
      "1.0568448\n",
      "Mean\n",
      "0.0305784\n",
      "STD\n",
      "0.9747134\n"
     ]
    }
   ],
   "source": [
    "\n",
    "scaler = StandardScaler().fit(X_tr)\n",
    "X_tr = scaler.transform(X_tr)\n",
    "X_val = scaler.transform(X_val)\n",
    "\n",
    "print(\"Training Set:\")\n",
    "for i in range(0,5):\n",
    "    print(\"Mean of dim\", [i])\n",
    "    print(\"{:.7f}\".format(X_tr[:,i].mean()))\n",
    "    print(\"STD\")\n",
    "    print(\"{:.7f}\".format(X_tr[:,i].std()))\n",
    "print(\"-------------------------------------\")\n",
    "print(\"-------------------------------------\")\n",
    "print(\"-------------------------------------\")\n",
    "print(\"Validation Set:\")\n",
    "for i in range(0,5):\n",
    "    print(\"Mean\")\n",
    "    print(\"{:.7f}\".format(X_val[:,i].mean()))\n",
    "    print(\"STD\")\n",
    "    print(\"{:.7f}\".format(X_val[:,i].std()))"
   ]
  },
  {
   "cell_type": "markdown",
   "metadata": {},
   "source": [
    "*Your answer goes here*\n",
    "The transformed distribution is as expected. As we saw inn the last answer, the distribution is not tough to work on, so we are trying to convert it into a Gaussian distribution. Though we are not expecting an exact shape(when plotted), Guassian conversion procedures like subtracting with the mean and dividing by the standard deviation will give us a normally distributed data which will be sensible to work on. \n",
    "\n",
    "From the result, it is easy to observe that training set is transformed properly as it should be (mean = 0; std = 1). But validation set is not properly converted as the StandardScaler is built by fitting transformed data for training sets. \n",
    "\n",
    "As validation datasets are 'pretend-to-be' test datasets, it is not advised to pivot any transformation on validation or testing datasets. This will help us in increasing the generalization."
   ]
  },
  {
   "cell_type": "markdown",
   "metadata": {},
   "source": [
    "### ========== Question 1.10 --- [3 marks] ==========\n",
    "By using the transformed input data, train a new `LogisticRegression` classifier. Again, set the `solver` parameter to `lbfgs` and use default settings for the other parameters. Report the classification accuracy on both the training and validation sets.\n",
    "\n",
    "Comment on how your model compares to the baseline classifier from Question 1.6? You may use additional plot(s) to support your explanation."
   ]
  },
  {
   "cell_type": "code",
   "execution_count": 11,
   "metadata": {},
   "outputs": [
    {
     "name": "stdout",
     "output_type": "stream",
     "text": [
      "Score of logistic regression on trasformed validation data 0.643306379155\n",
      "Score of logistic regression on trasformed training data 0.810797897754\n"
     ]
    }
   ],
   "source": [
    "# Your code goes here\n",
    "log_regress_transformed = LogisticRegression(solver = \"lbfgs\")\n",
    "log_regress_transformed.fit(X_tr, y_tr)\n",
    "print(\"Score of logistic regression on trasformed validation data\", log_regress_transformed.score(X_val, y_val))\n",
    "print(\"Score of logistic regression on trasformed training data\", log_regress_transformed.score(X_tr, y_tr))"
   ]
  },
  {
   "cell_type": "markdown",
   "metadata": {},
   "source": [
    "*Your answer goes here*\n",
    "As you see, the Score of logistic regression on trasformed data have increased both in training and validation set. \n",
    "But it has tremendously increased in training set and slightly inncreased inn validation set. This is because as the data is scaled down by dividing it by its standard deviation. Having dsid that, the transformation is not properly fit into the validation set as we saw earlier. Even minor transformation change makes large difference, hence some data are ambiguous (as they are scaled down) to classify, hence the score. "
   ]
  },
  {
   "cell_type": "markdown",
   "metadata": {},
   "source": [
    "### ========== Question 1.11 --- [1 mark] ==========\n",
    "So far we have used default settings for training the logistic regression classifier. Now, we want to use [K-fold cross-validation](http://scikit-learn.org/stable/modules/generated/sklearn.model_selection.KFold.html) to optimise the regularisation parameter `C`. The regularisation parameter controls the degree to which we wish to penalise large magnitudes in the weight vector. This can help us prevent overfitting but, if set too high, could lead us to underfit too.\n",
    "\n",
    "Create a 3-fold cross-validation object. Set the `shuffle` parameter to `True` and the `random_state` to `0`. By using the cross-validation iterator, display the number of test samples for each fold."
   ]
  },
  {
   "cell_type": "code",
   "execution_count": 12,
   "metadata": {},
   "outputs": [
    {
     "name": "stdout",
     "output_type": "stream",
     "text": [
      "Number of training index for fold 1395\n",
      "Number of training index for fold 698\n",
      "-------------------------------------\n",
      "Number of training index for fold 1395\n",
      "Number of training index for fold 698\n",
      "-------------------------------------\n",
      "Number of training index for fold 1396\n",
      "Number of training index for fold 697\n",
      "-------------------------------------\n"
     ]
    }
   ],
   "source": [
    "# Your code goes here\n",
    "kf_splits = KFold(n_splits =3, random_state = 0, shuffle = True)\n",
    "for train_index, test_index in kf_splits.split(X_tr):\n",
    "    print(\"Number of training index for fold\",len(train_index))\n",
    "    print(\"Number of training index for fold\",len(test_index))\n",
    "    print(\"-------------------------------------\")"
   ]
  },
  {
   "cell_type": "markdown",
   "metadata": {},
   "source": [
    "### ========== Question 1.12 --- [2 marks] ========== \n",
    "Using the cross-validation iterator from the previous question, perform a search for the best value for `C`. \n",
    "\n",
    "We are going to loop over each CV fold, and each value of `C`. The values of `C` to search should be 20 equally-spaced values **in log space** ranging from `1e-5` to `1e5` *(hint: look at the `logspace()` function in numpy)*. \n",
    "\n",
    "Create a 2-dimensional array and, for each cross-validation fold and parameter setting pair, compute and store the classification accuracy score e.g. store the score of fold 0 with parameter setting 1 at score_array[0,1]. As previously, set the `solver` parameter to `lbfgs` and use default settings for the other parameters (except for `C` obviously!).\n",
    "\n",
    "*(hint: you could use two loops in your code; one iterating over CV folds and another one iterating over the values for `C`)*. "
   ]
  },
  {
   "cell_type": "code",
   "execution_count": 36,
   "metadata": {},
   "outputs": [
    {
     "name": "stdout",
     "output_type": "stream",
     "text": [
      "[[ 0.5730659   0.62893983  0.66762178  0.67191977  0.68767908  0.69627507\n",
      "   0.6747851   0.67048711  0.65329513  0.65902579  0.65902579  0.65329513\n",
      "   0.64899713  0.64613181  0.64613181  0.64899713  0.64613181  0.64613181\n",
      "   0.64899713  0.64899713]\n",
      " [ 0.54584527  0.63180516  0.69484241  0.71919771  0.72922636  0.73495702\n",
      "   0.70200573  0.6747851   0.65472779  0.63610315  0.63180516  0.63323782\n",
      "   0.6260745   0.62750716  0.62750716  0.6260745   0.6260745   0.6260745\n",
      "   0.62750716  0.6260745 ]\n",
      " [ 0.54806313  0.63558106  0.64275466  0.65566714  0.68005739  0.70014347\n",
      "   0.68149211  0.67001435  0.66284075  0.64418938  0.63271162  0.62553802\n",
      "   0.6241033   0.6241033   0.6241033   0.6241033   0.6241033   0.6241033\n",
      "   0.6241033   0.6241033 ]]\n"
     ]
    }
   ],
   "source": [
    "# Your code goes here\n",
    "c_values = np.logspace(-5, 5, num=20)\n",
    "score_array = np.zeros((3,20))\n",
    "fold = 0\n",
    "for train_index, test_index in kf_splits.split(X_tr):\n",
    "    X_train_temp, X_test_temp = X_tr[train_index, :], X_tr[test_index, :]\n",
    "    y_train_temp, y_test_temp = y_tr.iloc[train_index], y_tr.iloc[test_index]\n",
    "    c_in_C = 0\n",
    "    for c in c_values:\n",
    "        log_regress_in_loop = LogisticRegression(solver = \"lbfgs\", C = c)\n",
    "        log_regress_in_loop.fit(X_train_temp,y_train_temp)\n",
    "        score_array[fold][c_in_C] = log_regress_in_loop.score(X_test_temp,y_test_temp)\n",
    "        c_in_C += 1\n",
    "    fold += 1\n",
    "print(score_array)"
   ]
  },
  {
   "cell_type": "markdown",
   "metadata": {},
   "source": [
    "### ========== Question 1.13 --- [1 mark] ========== \n",
    "Plot the mean classification performance (across CV folds) of the logistic regression classifier against the regularisation parameter `C` by using the range from Question 1.12. Use a logarithmic scale for the x-axis and label both axes appropriately. "
   ]
  },
  {
   "cell_type": "code",
   "execution_count": 56,
   "metadata": {},
   "outputs": [
    {
     "name": "stdout",
     "output_type": "stream",
     "text": [
      "[[ 0.5730659   0.54584527  0.54806313]\n",
      " [ 0.62893983  0.63180516  0.63558106]\n",
      " [ 0.66762178  0.69484241  0.64275466]\n",
      " [ 0.67191977  0.71919771  0.65566714]\n",
      " [ 0.68767908  0.72922636  0.68005739]\n",
      " [ 0.69627507  0.73495702  0.70014347]\n",
      " [ 0.6747851   0.70200573  0.68149211]\n",
      " [ 0.67048711  0.6747851   0.67001435]\n",
      " [ 0.65329513  0.65472779  0.66284075]\n",
      " [ 0.65902579  0.63610315  0.64418938]\n",
      " [ 0.65902579  0.63180516  0.63271162]\n",
      " [ 0.65329513  0.63323782  0.62553802]\n",
      " [ 0.64899713  0.6260745   0.6241033 ]\n",
      " [ 0.64613181  0.62750716  0.6241033 ]\n",
      " [ 0.64613181  0.62750716  0.6241033 ]\n",
      " [ 0.64899713  0.6260745   0.6241033 ]\n",
      " [ 0.64613181  0.6260745   0.6241033 ]\n",
      " [ 0.64613181  0.6260745   0.6241033 ]\n",
      " [ 0.64899713  0.62750716  0.6241033 ]\n",
      " [ 0.64899713  0.6260745   0.6241033 ]]\n",
      "[0.55565810082506695, 0.63210868245544072, 0.66840628207394504, 0.6822615411389239, 0.69898761097841888, 0.71045852123783337, 0.68609431332809878, 0.67176218450200675, 0.6569545562302076, 0.64643944096612715, 0.6411808555975328, 0.63735699045849381, 0.63305831103145005, 0.63258075611263453, 0.63258075611263453, 0.63305831103145005, 0.6321032011938188, 0.6321032011938188, 0.63353586595026579, 0.63305831103145005]\n"
     ]
    },
    {
     "data": {
      "image/png": "[encoded data removed]",
      "text/plain": [
       "<matplotlib.figure.Figure at 0x116ba0be0>"
      ]
     },
     "metadata": {},
     "output_type": "display_data"
    }
   ],
   "source": [
    "# Your code goes here\n",
    "score_array = score_array.T\n",
    "print(score_array)\n",
    "score_mean = []\n",
    "for i in range(0,20):\n",
    "    score_mean.append(np.mean(score_array[i]))\n",
    "print(score_mean)\n",
    "plt.semilogx(c_values, score_mean, basex=10, color='blue')\n",
    "plt.xlabel('C value')\n",
    "plt.ylabel('accuracy mean across folds')\n",
    "plt.title('Determining C value')\n",
    "plt.grid(True)\n",
    "plt.show()"
   ]
  },
  {
   "cell_type": "markdown",
   "metadata": {},
   "source": [
    "### ========== Question 1.14 --- [2 marks] ==========\n",
    "Display the optimal value for the regularisation parameter `C` determined by the search results from Question 1.12. Similarly to Question 1.13, consider the mean classifiation accuracy across CV folds. By using the optimal value (i.e. the one that yields the highest average classification accuracy) train a new `LogisticRegression` classifier and report the classification accuracy on the validation set. *(Hint: Do not pick the optimal value \"by hand\", instead use an appropriate numpy function).*"
   ]
  },
  {
   "cell_type": "code",
   "execution_count": 61,
   "metadata": {},
   "outputs": [
    {
     "name": "stdout",
     "output_type": "stream",
     "text": [
      "Optimal C value 0.00428133239872\n",
      "Score of logistic regression with optimal value 0.696316262354\n"
     ]
    }
   ],
   "source": [
    "# Your code goes here\n",
    "optimal_c = c_values[score_mean.index(max(score_mean))]\n",
    "print(\"Optimal C value\", optimal_c)\n",
    "log_regress_optimal_c = LogisticRegression(solver = \"lbfgs\", C = optimal_c)\n",
    "log_regress_optimal_c.fit(X_tr, y_tr)\n",
    "print(\"Score of logistic regression with optimal value\",log_regress_optimal_c.score(X_val, y_val))\n"
   ]
  },
  {
   "cell_type": "markdown",
   "metadata": {},
   "source": [
    "### ========== Question 1.15 --- [1 mark] ========== \n",
    "Scikit-learn offers a [`LogisticRegressionCV`](http://scikit-learn.org/0.17/modules/generated/sklearn.linear_model.LogisticRegressionCV.html) module which implements Logistic Regression with builtin cross-validation to find out the optimal `C` parameter. You can specify the range for the `C` parameter, as well as the cross-validation method you want to use with the `Cs` and `cv` parameters, respectively. Use the `C` range you set up in Question 1.12 and the 3-fold cross-validation iterator from Question 1.11. Once again, train the models by using the `lbfgs` optimisation method and display the optimal value for the parameter `C`. Finally, display the classification accuracy on the validation set. Check your results are consistent with those from Question 1.14!"
   ]
  },
  {
   "cell_type": "code",
   "execution_count": 66,
   "metadata": {},
   "outputs": [
    {
     "name": "stdout",
     "output_type": "stream",
     "text": [
      "Optimal C value cy inbuilt class 0.00428133239872\n",
      "Score of logistic regression (in-built class) with optimal value 0.696316262354\n"
     ]
    }
   ],
   "source": [
    "# Your code goes here\n",
    "log_regress_optimal_c_inbuilt = LogisticRegressionCV(solver = 'lbfgs', Cs = c_values, cv = kf_splits)\n",
    "log_regress_optimal_c_inbuilt.fit(X_tr, y_tr)\n",
    "print(\"Optimal C value cy inbuilt class\",log_regress_optimal_c_inbuilt.C_[0])\n",
    "print(\"Score of logistic regression (in-built class) with optimal value\",log_regress_optimal_c_inbuilt.score(X_val, y_val))"
   ]
  },
  {
   "cell_type": "markdown",
   "metadata": {},
   "source": [
    "### ========== Question 1.16 --- [1 mark] ==========\n",
    "Now, we want to validate the importance of various features for classification. For this purpose, we will use a [`RandomForestClassifier`](http://scikit-learn.org/stable/modules/generated/sklearn.ensemble.RandomForestClassifier.html) (you might want to refer to the labs if you are unsure how we can estimate feature importances with decision tree and random forest models).\n",
    "\n",
    "Initialise a random forest classifier and fit the model by using training data only and 500 trees (i.e. `n_estimators`). Set the `RandomState` equal to 42 to ensure reproducible results. Report the accuracy score on both the training and validation sets."
   ]
  },
  {
   "cell_type": "code",
   "execution_count": 71,
   "metadata": {},
   "outputs": [
    {
     "name": "stdout",
     "output_type": "stream",
     "text": [
      "Random classifer score on validation set 0.692722371968\n",
      "Random classifer score on trainning set 1.0\n"
     ]
    }
   ],
   "source": [
    "# Your code goes here\n",
    "rand_class = RandomForestClassifier(n_estimators=500, random_state = 42)\n",
    "rand_class.fit(X_tr, y_tr)\n",
    "print(\"Random classifer score on validation set\",rand_class.score(X_val, y_val))\n",
    "print(\"Random classifer score on trainning set\",rand_class.score(X_tr, y_tr))"
   ]
  },
  {
   "cell_type": "markdown",
   "metadata": {},
   "source": [
    "### ========== Question 1.17 --- [2 marks] ==========\n",
    "Comment on the results above. Do you find the discrepancy between training and validation accuracies surprising?"
   ]
  },
  {
   "cell_type": "markdown",
   "metadata": {},
   "source": [
    "*Your answer goes here*\n",
    "An accuracy of 1.0 is ofcourse surprising and satisfying but it is possible in case of a random forest. Because, non pruned decision trees are promised to yield 100% overfitting on data where every data has a determenistic predictor branch. To increase the generalization error score, we prune it to make it less suspicious. Here, we used random classifier where we have completely non-pruned randomly split decision trees which again yield 100% accuracy on the training data.\n",
    "\n",
    "As we could see, score on validation score is near the score of logistic regression model with optimal c (inverse of regularization) value. So, the out of bag score (validation set, here) is quite acceptable."
   ]
  },
  {
   "cell_type": "markdown",
   "metadata": {},
   "source": [
    "### ========== Question 1.18 --- [2 marks] ==========\n",
    "By using the random forest model from the previous question order the features by descending importance and display the names of the 50 most important features."
   ]
  },
  {
   "cell_type": "code",
   "execution_count": 81,
   "metadata": {},
   "outputs": [
    {
     "name": "stdout",
     "output_type": "stream",
     "text": [
      "dim21\n",
      "dim51\n",
      "dim360\n",
      "dim4\n",
      "dim479\n",
      "dim76\n",
      "dim283\n",
      "dim461\n",
      "dim343\n",
      "dim398\n",
      "dim348\n",
      "dim74\n",
      "dim485\n",
      "dim356\n",
      "dim330\n",
      "dim217\n",
      "dim263\n",
      "dim222\n",
      "dim134\n",
      "dim500\n",
      "dim274\n",
      "dim254\n",
      "dim206\n",
      "dim423\n",
      "dim347\n",
      "dim17\n",
      "dim326\n",
      "dim90\n",
      "dim92\n",
      "dim329\n",
      "dim214\n",
      "dim322\n",
      "dim289\n",
      "dim54\n",
      "dim440\n",
      "dim427\n",
      "dim73\n",
      "dim35\n",
      "dim77\n",
      "dim312\n",
      "dim315\n",
      "dim96\n",
      "dim288\n",
      "dim483\n",
      "dim299\n",
      "dim48\n",
      "dim442\n",
      "dim201\n",
      "dim344\n",
      "dim294\n"
     ]
    }
   ],
   "source": [
    "# Your code goes here\n",
    "important_indices = (-rand_class.feature_importances_).argsort()[:50]\n",
    "for i in range(50):\n",
    "    print(trainA.columns.values[important_indices[i]+1])"
   ]
  },
  {
   "cell_type": "markdown",
   "metadata": {},
   "source": [
    "### ========== Question 1.19 --- [3 marks] ==========\n",
    "Next, we would like to test the performance of support vector machines. Train three support vector classifiers with the following kernels: linear, radial basis function, and polynomial. Report the classification accuracy of each of the three classifiers on both the training and validation sets."
   ]
  },
  {
   "cell_type": "code",
   "execution_count": 87,
   "metadata": {},
   "outputs": [
    {
     "name": "stdout",
     "output_type": "stream",
     "text": [
      "AN RBF kerlized SVC Score on validation set:  0.729559748428\n",
      "AN RBF kerlized SVC Score on training set:  0.910654562828\n",
      "---------------------------\n",
      "A polynomial kerlized SVC Score on validation set:  0.701707097934\n",
      "AN RBF kerlized SVC Score on training set:  0.990922121357\n",
      "---------------------------\n",
      "AN linearly kerlized SVC Score on validation set:   0.638814016173\n",
      "AN RBF kerlized SVC Score on training set:  0.842331581462\n"
     ]
    }
   ],
   "source": [
    "# Your code goes her\n",
    "svc_rbf = SVC(kernel = \"rbf\")\n",
    "svc_rbf.fit(X_tr, y_tr)\n",
    "print(\"AN RBF kerlized SVC Score on validation set: \",svc_rbf.score(X_val,y_val))\n",
    "print(\"AN RBF kerlized SVC Score on training set: \",svc_rbf.score(X_tr,y_tr))\n",
    "print(\"---------------------------\")\n",
    "svc_poly = SVC(kernel = \"poly\")\n",
    "svc_poly.fit(X_tr, y_tr)\n",
    "print(\"A polynomial kerlized SVC Score on validation set: \",svc_poly.score(X_val,y_val))\n",
    "print(\"AN RBF kerlized SVC Score on training set: \",svc_poly.score(X_tr,y_tr))\n",
    "print(\"---------------------------\")\n",
    "svc_linear = SVC(kernel = \"linear\")\n",
    "svc_linear.fit(X_tr, y_tr)\n",
    "print(\"AN linearly kerlized SVC Score on validation set:  \",svc_linear.score(X_val,y_val))\n",
    "print(\"AN RBF kerlized SVC Score on training set: \",svc_linear.score(X_tr,y_tr))\n"
   ]
  },
  {
   "cell_type": "markdown",
   "metadata": {},
   "source": [
    "### ========== Question 1.20 --- [3 marks] ==========\n",
    "At this point, we would like to get an idea of what kind of decision boundaries we can get with the three types of SVM kernels we introduced in the previous question. For visualisation, however, we can only make use of 2D input data. For this purpose, we select to use the 21st and 76th columns of our training features (*hint: remember that Python uses 0-based indexing*). \n",
    "\n",
    "Execute the cell below to define a useful function which we will be using to plot the decision boundaries *(it is also not a bad idea to try to understand what this functions does)*. \n",
    "\n",
    "Then train three distinct SVM classifiers by using the 2D input data mentioned above and default parameters:\n",
    "* a linear SVC\n",
    "* an RBF SVC \n",
    "* a polynomial SVC\n",
    "\n",
    "Finally, create a list containing the three classifiers you have just trained. Use this list as an input to the provided function along with the used training features and observe the outcome. You can use the additional `title` parameter to set the titles in the subplots. Comment on the shape of the boundaries and what this means for classification accuracy in 1-2 sentences.\n",
    "\n",
    "*(Acknowledgement: this Question has been heavily based on [this example](http://scikit-learn.org/0.17/auto_examples/svm/plot_iris.html) from scikit-learn's documentation.)*"
   ]
  },
  {
   "cell_type": "code",
   "execution_count": 20,
   "metadata": {
    "collapsed": true
   },
   "outputs": [],
   "source": [
    "def show_svc_decision_boundaries(clfs, X, title=None):\n",
    "    \"\"\"Plots decision boundaries for classifiers with 2D inputs.\n",
    "    \n",
    "    Parameters\n",
    "    ----------\n",
    "    clf : list\n",
    "        Classifiers for which decision boundaries will be displayed.\n",
    "    X : array\n",
    "        Input features used to train the classifiers.\n",
    "    title : list, optional\n",
    "        Titles for classifiers.\n",
    "    \n",
    "    \"\"\"\n",
    "    \n",
    "    assert X.shape[1] == 2 # Input should be 2D\n",
    "    if title is not None:\n",
    "        assert len(clfs) == len(title)\n",
    "    \n",
    "    h = .04 # step size in the mesh\n",
    "    x_min, x_max = X[:, 0].min() - 1, X[:, 0].max() + 1\n",
    "    y_min, y_max = X[:, 1].min() - 1, X[:, 1].max() + 1\n",
    "    xx, yy = np.meshgrid(np.arange(x_min, x_max, h),\n",
    "                         np.arange(y_min, y_max, h))\n",
    "    plt.figure(figsize=(15,5))\n",
    "    for i, clf in enumerate(clfs):\n",
    "        plt.subplot(1, len(clfs), i + 1)\n",
    "        plt.subplots_adjust(wspace=0.4, hspace=0.4)\n",
    "        Z = clf.predict(np.c_[xx.ravel(), yy.ravel()])\n",
    "        Z = Z.reshape(xx.shape)\n",
    "        plt.contourf(xx, yy, Z, cmap=plt.cm.Paired, alpha=0.8)\n",
    "        # Training points\n",
    "        plt.scatter(X[:, 0], X[:, 1], c=y_tr, cmap=plt.cm.Paired)\n",
    "        plt.xlabel('Feature 1')\n",
    "        plt.ylabel('Feature 2')\n",
    "        plt.xlim(xx.min(), xx.max())\n",
    "        plt.ylim(yy.min(), yy.max())\n",
    "        plt.xticks(())\n",
    "        plt.yticks(())\n",
    "        if title is not None:\n",
    "            plt.title(title[i])"
   ]
  },
  {
   "cell_type": "code",
   "execution_count": 86,
   "metadata": {},
   "outputs": [
    {
     "data": {
      "image/png": "[encoded data removed]",
      "text/plain": [
       "<matplotlib.figure.Figure at 0x11f5b1a20>"
      ]
     },
     "metadata": {},
     "output_type": "display_data"
    }
   ],
   "source": [
    "# Your code goes here\n",
    "X_tr_euclidean = X_tr[:, [20,75]]  # given number - 1, zero indexed nature  \n",
    "kernels = []\n",
    "svc_linear_euclidean = SVC(kernel='linear')\n",
    "svc_linear_euclidean.fit(X_tr_euclidean, y_tr)\n",
    "kernels.append(svc_linear_euclidean)\n",
    "\n",
    "svc_rbf_euclidean = SVC(kernel='rbf')\n",
    "svc_rbf_euclidean.fit(X_tr_euclidean, y_tr)\n",
    "kernels.append(svc_rbf_euclidean)\n",
    "\n",
    "svc_poly_euclidean = SVC(kernel='poly')\n",
    "svc_poly_euclidean.fit(X_tr_euclidean, y_tr)\n",
    "kernels.append(svc_poly_euclidean)\n",
    "\n",
    "# Plot results\n",
    "show_svc_decision_boundaries(kernels, X_tr_euclidean, ['Linear','RBF', 'Poly'])"
   ]
  },
  {
   "cell_type": "markdown",
   "metadata": {},
   "source": [
    "*Your answer goes here*\n",
    "1. Obviosuly linear kernel proved to produce a linear decision bounday and rbf, poly produces a non-linear, smoothened curve as illustrated above.\n",
    "2. RBF seems to have a different curve from polynomial. rbf curve seems to give a decision boundary similar to two rbf peaks (or a Gaussian look-alike) and poly curve gives one bump of a 3-degree polynomial curve (as 3 is the default value for degree parameter in SVC class)."
   ]
  },
  {
   "cell_type": "markdown",
   "metadata": {},
   "source": [
    "### ========== Question 1.21 --- [5 marks] ==========\n",
    "So far we have used default parameters for training the SVM classifiers. Now we want to tune the parameters by using cross-validation. \n",
    "\n",
    "By using the `K-fold` iterator from Question 1.11 and training data only, estimate the classification accuracy of an SVM classifier with RBF kernel, while you vary the penalty parameter `C` in a logarithmic range `np.logspace(-2, 3, 10)`. Set the kernel coefficient parameter `gamma` to `auto` for this question. \n",
    "\n",
    "Plot the mean cross-validated classification accuracy against the regularisation parameter `C` by using a log-scale for the x-axis. Display the highest obtained mean accuracy score and the value of `C` which yielded it. Label axes appropriately. \n",
    "\n",
    "Finally, train a classifier by using the optimal value for this parameter (without using cross-validation at this stage) and report the classification accuracy on the training and validation sets. "
   ]
  },
  {
   "cell_type": "code",
   "execution_count": 91,
   "metadata": {},
   "outputs": [
    {
     "data": {
      "image/png": "[encoded data removed]",
      "text/plain": [
       "<matplotlib.figure.Figure at 0x11f54b470>"
      ]
     },
     "metadata": {},
     "output_type": "display_data"
    },
    {
     "name": "stdout",
     "output_type": "stream",
     "text": [
      "Optimal C value 1.6681005372\n",
      "Score of logistic regression with optimal value on validation set 0.727762803235\n",
      "Score of logistic regression with optimal value on training set 0.974677496417\n"
     ]
    }
   ],
   "source": [
    "# Your code goes here\n",
    "c_values_svc = np.logspace(-2, 3, 10)\n",
    "score_array_svc = np.zeros((3,10))\n",
    "fold = 0\n",
    "for train_index, test_index in kf_splits.split(X_tr):\n",
    "    X_train_temp, X_test_temp = X_tr[train_index, :], X_tr[test_index, :]\n",
    "    y_train_temp, y_test_temp = y_tr.iloc[train_index], y_tr.iloc[test_index]\n",
    "    c_in_C = 0\n",
    "    for c in c_values_svc:\n",
    "        svc_rbf_in_loop = SVC(C = c, kernel='rbf', gamma = 'auto')\n",
    "        svc_rbf_in_loop.fit(X_train_temp,y_train_temp)\n",
    "        score_array_svc[fold][c_in_C] = svc_rbf_in_loop.score(X_test_temp,y_test_temp)\n",
    "        c_in_C += 1\n",
    "    fold += 1\n",
    "# print(score_array_svc)\n",
    "score_array_svc = score_array_svc.T\n",
    "score_mean_svc = []\n",
    "for i in range(0,10):\n",
    "    score_mean_svc.append(np.mean(score_array_svc[i]))\n",
    "# print(score_mean_svc)\n",
    "plt.semilogx(c_values_svc, score_mean_svc)\n",
    "plt.xlabel('C value')\n",
    "plt.ylabel('accuracy mean across folds')\n",
    "plt.title('Determining C value')\n",
    "plt.grid(True)\n",
    "plt.show()\n",
    "optimal_c_svc = c_values_svc[score_mean_svc.index(max(score_mean_svc))]\n",
    "print(\"Optimal C value\", optimal_c_svc)\n",
    "svc_rbf_optimal_c = SVC(C = optimal_c_svc , kernel='rbf', gamma = 'auto')\n",
    "svc_rbf_optimal_c.fit(X_tr, y_tr)\n",
    "print(\"Score of logistic regression with optimal value on validation set\",svc_rbf_optimal_c.score(X_val, y_val))\n",
    "print(\"Score of logistic regression with optimal value on training set\",svc_rbf_optimal_c.score(X_tr, y_tr))\n"
   ]
  },
  {
   "cell_type": "markdown",
   "metadata": {},
   "source": [
    "### ========== Question 1.22 --- [5 marks] ==========\n",
    "Now we turn to the kernel coefficient `gamma` parameter. By using the same procedure as in the previous question, estimate the classification accuracy of an SVM classifier with RBF kernel while you vary the `gamma` parameter in a logarithmic range `logspace(-5, 0, 10)`. Fix the penalty parameter `C=1.0`.\n",
    "\n",
    "Plot the mean cross-validated classification accuracy against the parameter `gamma` by using a log-scale for the x-axis. Display the highest obtained mean accuracy score and the value of `gamma` which yielded it.  Label axes appropriately.\n",
    "\n",
    "Finally, train a classifier by using the optimal value for this parameter (without using cross-validation at this stage) and report the classification accuracy on the training and validation sets. "
   ]
  },
  {
   "cell_type": "code",
   "execution_count": 119,
   "metadata": {},
   "outputs": [
    {
     "data": {
      "image/png": "[encoded data removed]",
      "text/plain": [
       "<matplotlib.figure.Figure at 0x11a3bdcf8>"
      ]
     },
     "metadata": {},
     "output_type": "display_data"
    },
    {
     "name": "stdout",
     "output_type": "stream",
     "text": [
      "Optimal gamma value 0.0016681005372\n",
      "Score of logistic regression with optimal gamma value on validation set 0.726864330638\n",
      "Score of logistic regression with optimal gamma value on training set 0.891065456283\n"
     ]
    }
   ],
   "source": [
    "# Your code goes here\n",
    "# Your code goes here\n",
    "gamma_values_svc = np.logspace(-5, 0, 10)\n",
    "score_array_svc_gamma = np.zeros((3,10))\n",
    "fold = 0\n",
    "for train_index, test_index in kf_splits.split(X_tr):\n",
    "    X_train_temp, X_test_temp = X_tr[train_index, :], X_tr[test_index, :]\n",
    "    y_train_temp, y_test_temp = y_tr.iloc[train_index], y_tr.iloc[test_index]\n",
    "    g_in_gamma = 0\n",
    "    for g in gamma_values_svc:\n",
    "        svc_rbf_in_loop = SVC(C = 1.0, kernel='rbf', gamma = g)\n",
    "        svc_rbf_in_loop.fit(X_train_temp,y_train_temp)\n",
    "        score_array_svc_gamma[fold][g_in_gamma] = svc_rbf_in_loop.score(X_test_temp,y_test_temp)\n",
    "        g_in_gamma += 1\n",
    "    fold += 1\n",
    "# print(score_array_svc)\n",
    "score_array_svc_gamma = score_array_svc_gamma.T\n",
    "score_mean_svc_gamma = []\n",
    "for i in range(0,10):\n",
    "    score_mean_svc_gamma.append(np.mean(score_array_svc_gamma[i]))\n",
    "# print(score_mean_svc)\n",
    "plt.semilogx(gamma_values_svc, score_mean_svc_gamma)\n",
    "plt.xlabel('gamma value')\n",
    "plt.ylabel('accuracy mean across folds')\n",
    "plt.title('Determining gamma value')\n",
    "plt.grid(True)\n",
    "plt.show()\n",
    "optimal_gamma_svc = gamma_values_svc[score_mean_svc_gamma.index(max(score_mean_svc_gamma))]\n",
    "print(\"Optimal gamma value\", optimal_gamma_svc)\n",
    "svc_rbf_optimal_gamma = SVC(C = 1.0 , kernel='rbf', gamma = optimal_gamma_svc)\n",
    "svc_rbf_optimal_gamma.fit(X_tr, y_tr)\n",
    "print(\"Score of logistic regression with optimal gamma value on validation set\",svc_rbf_optimal_gamma.score(X_val, y_val))\n",
    "print(\"Score of logistic regression with optimal gamma value on training set\",svc_rbf_optimal_gamma.score(X_tr, y_tr))\n"
   ]
  },
  {
   "cell_type": "markdown",
   "metadata": {},
   "source": [
    "### ========== Question 1.23 --- [7 marks] ==========\n",
    "Now we wish to tune both the `C` and `gamma` parameters simultaneously. To save computational time, we will now constrain the parameter search space. Define a `4 X 4` grid for the two parameters, as follows:\n",
    "* `C`: `np.logspace(-2, 1, 4)`\n",
    "* `gamma`: `np.logspace(-4, -1, 4)`\n",
    "\n",
    "Estimate the mean cross-validated classification accuracy by using training data only and all possible configurations for the two parameters. \n",
    "\n",
    "Use a [heatmap](https://seaborn.github.io/generated/seaborn.heatmap.html?highlight=heatmap#seaborn.heatmap) to visualise the mean cross-validated classification accuracy for all `C`-`gamma` pairs. Label axes appropriately and display the values for `C` and `gamma` for the best performing configuration. \n",
    "\n",
    "Finally, by using the optimal configuration, train a classifier (without using cross-validation) and report the classification accuracy on the training and validation sets."
   ]
  },
  {
   "cell_type": "code",
   "execution_count": 108,
   "metadata": {},
   "outputs": [
    {
     "name": "stdout",
     "output_type": "stream",
     "text": [
      "[[[ 0.56017192  0.56017192  0.56017192  0.56017192]\n",
      "  [ 0.56017192  0.67621777  0.56017192  0.56017192]\n",
      "  [ 0.67335244  0.70773639  0.65759312  0.56017192]\n",
      "  [ 0.6991404   0.69197708  0.67048711  0.56017192]]\n",
      "\n",
      " [[ 0.54584527  0.54584527  0.54584527  0.54584527]\n",
      "  [ 0.54584527  0.69627507  0.54584527  0.54584527]\n",
      "  [ 0.70773639  0.74212034  0.64899713  0.54584527]\n",
      "  [ 0.73782235  0.6991404   0.67908309  0.54584527]]\n",
      "\n",
      " [[ 0.54662841  0.54662841  0.54662841  0.54662841]\n",
      "  [ 0.54662841  0.67718795  0.54662841  0.54662841]\n",
      "  [ 0.66284075  0.68723099  0.6312769   0.54662841]\n",
      "  [ 0.69296987  0.68149211  0.64131994  0.54662841]]]\n"
     ]
    }
   ],
   "source": [
    "# Your code goes here\n",
    "gammas = np.logspace(-4, -1, 4)\n",
    "cs = np.logspace(-2, 1, 4)\n",
    "score_array_svc_final = np.zeros((3,4,4))\n",
    "fold = 0\n",
    "for train_index, test_index in kf_splits.split(X_tr):\n",
    "    X_train_temp, X_test_temp = X_tr[train_index, :], X_tr[test_index, :]\n",
    "    y_train_temp, y_test_temp = y_tr.iloc[train_index], y_tr.iloc[test_index]\n",
    "    c_in_cs = 0\n",
    "    for c in cs:\n",
    "        g_in_gammas = 0\n",
    "        for g in gammas:\n",
    "            svc_rbf_in_loop = SVC(C = c, kernel='rbf', gamma = g)\n",
    "            svc_rbf_in_loop.fit(X_train_temp,y_train_temp)\n",
    "            score_array_svc_final[fold][c_in_cs][g_in_gammas] = svc_rbf_in_loop.score(X_test_temp,y_test_temp)\n",
    "            g_in_gammas += 1\n",
    "        c_in_cs += 1\n",
    "    fold += 1\n",
    "print(score_array_svc_final)"
   ]
  },
  {
   "cell_type": "code",
   "execution_count": 110,
   "metadata": {},
   "outputs": [
    {
     "data": {
      "text/plain": [
       "<matplotlib.text.Text at 0x11f5cd630>"
      ]
     },
     "execution_count": 110,
     "metadata": {},
     "output_type": "execute_result"
    },
    {
     "data": {
      "image/png": "[encoded data removed]",
      "text/plain": [
       "<matplotlib.figure.Figure at 0x11722c240>"
      ]
     },
     "metadata": {},
     "output_type": "display_data"
    }
   ],
   "source": [
    "score = score_array_svc_final.T\n",
    "averaged_score = np.zeros([4,4])\n",
    "for i in range(4):\n",
    "    for j in range(4):\n",
    "        averaged_score[i,j] = np.mean(score_array_svc_final[:,i,j])\n",
    "\n",
    "ax = sns.heatmap(averaged_score, xticklabels=cs[::-1], yticklabels=gammas[::-1],annot=True, linewidths=.5)\n",
    "ax.set_xlabel('C')\n",
    "ax.set_ylabel('Gamma')"
   ]
  },
  {
   "cell_type": "code",
   "execution_count": 121,
   "metadata": {},
   "outputs": [
    {
     "name": "stdout",
     "output_type": "stream",
     "text": [
      "Optimal C value 1.0\n",
      "Optimal gamma value 0.001\n",
      "Score on validation set 0.721473495058\n",
      "Score on training set 0.834687052078\n"
     ]
    }
   ],
   "source": [
    "c_g = unravel_index(averaged_score.argmax(), averaged_score.shape)\n",
    "print(\"Optimal C value\", cs[c_g[0]])\n",
    "print(\"Optimal gamma value\", gammas[c_g[1]])\n",
    "svc_opt = SVC(C = cs[c_g[0]], kernel='rbf', gamma = gammas[c_g[1]])\n",
    "svc_opt.fit(X_tr,y_tr)\n",
    "print(\"Score on validation set\", svc_opt.score(X_val, y_val))\n",
    "print(\"Score on training set\", svc_opt.score(X_tr, y_tr))"
   ]
  },
  {
   "cell_type": "markdown",
   "metadata": {},
   "source": [
    "### ========== Question 1.24 --- [3 marks] ==========\n",
    "Is the classification accuracy on the validation set higher than in previous questions (1.22-1.23)? If not, can you explain why? Can you think of a way of further improving the performance of the classifier? You don't need to implement your suggestion at this stage. Would there be any associated problems with your suggested approach? "
   ]
  },
  {
   "cell_type": "markdown",
   "metadata": {},
   "source": [
    "### Answer:\n",
    "There is no improvement in this model comparing the previous models with the optimal penalty and gamma (rbf width) values. But there is reduction in training set score. Which means the model is bit generalized and not overfitting as the previous models (of 1.21 - 1.23)\n",
    "\n",
    "The score hasnt increased from the prevoius models as we landed with C =1.0 and gamma = 0.001. Our default values, were c = 1.0 and gamma = 'auto' (which is 1/number_of_features = 1/501 = 0.0019). Roughly similair to what we used before. SO no wonder we got the same score here.\n",
    "#### 0. Solution:\n",
    "We could only use attributes of much importance and train the data to get better results.\n",
    "#### 1.Solution:\n",
    "We have been working on cross-validation on training set to tune hyper-parameters. Hyper parameter tuning should be totally based on an unseen data like the validation data we have.\n",
    "#### 2.Solution (a theory):\n",
    "Both the curves as plotted in 1.21 and 1.22 seem to be continous, convex curves and global maxima can be found over these curves by applying convex optimization if needed. This can be accelerated by increasing and decreasing the momentum. Like a gradient ascent (origianally gradient descent)\n",
    "#### 3.Solution:\n",
    "To overcome this we could expand the number of possibilities of C and gamma \n",
    "#### 3.1.Problem of the previous solution:\n",
    "Time complexity\n",
    "#### 4.Solution:\n",
    "Looking around gamma = 0.0016681005372 and C = 1.6681005372 (from 1.21 and 1.22). This might reduce the region of interest around these values.\n",
    "#### 4.1Problem of the previous solution:\n",
    "They are still around the default values.\n"
   ]
  },
  {
   "cell_type": "markdown",
   "metadata": {},
   "source": [
    "### ========== Question 1.25 --- [5 marks] ==========\n",
    "Now we want to evaluate the performance of an SVM classifier with polynomial kernel. Once again, we will tune the `degree` parameter by using cross-validation (similarly to what we did in Questions 1.21 and 1.22).\n",
    "\n",
    "By using the `K-fold` iterator from Question 1.11 and training data only, estimate the classification accuracy of polynomial SVM classifier, while you vary the `degree` parameter in the range `np.arange(1,8)`. \n",
    "\n",
    "Plot the mean cross-validated classification accuracy against the polynomial degree. Display the highest obtained mean accuracy score and the value of the `degree` parameter which yielded it. Label axes appropriately. \n",
    "\n",
    "Finally, train a classifier by using the optimal value for this parameter (without using cross-validation at this stage) and report the classification accuracy on the training and validation sets. "
   ]
  },
  {
   "cell_type": "code",
   "execution_count": 124,
   "metadata": {},
   "outputs": [
    {
     "name": "stdout",
     "output_type": "stream",
     "text": [
      "[[ 0.67908309  0.6747851   0.65472779  0.61318052  0.63180516  0.58309456\n",
      "   0.55730659]\n",
      " [ 0.74498567  0.67908309  0.71060172  0.60888252  0.58309456  0.56017192\n",
      "   0.55444126]\n",
      " [ 0.68436155  0.64131994  0.68723099  0.66140603  0.60114778  0.57962697\n",
      "   0.57245337]]\n"
     ]
    }
   ],
   "source": [
    "# Your code goes \n",
    "degrees = np.arange(1,8)\n",
    "score_array_svc_poly = np.zeros((3,7))\n",
    "fold = 0\n",
    "for train_index, test_index in kf_splits.split(X_tr):\n",
    "    X_train_temp, X_test_temp = X_tr[train_index, :], X_tr[test_index, :]\n",
    "    y_train_temp, y_test_temp = y_tr.iloc[train_index], y_tr.iloc[test_index]\n",
    "    d_in_degrees = 0\n",
    "    for degree in degrees:\n",
    "        svc_poly_in_loop = SVC(kernel='poly', degree = degree)\n",
    "        svc_poly_in_loop.fit(X_train_temp,y_train_temp)\n",
    "        score_array_svc_poly[fold][d_in_degrees] = svc_poly_in_loop.score(X_test_temp,y_test_temp)\n",
    "        d_in_degrees += 1\n",
    "    fold += 1\n",
    "print(score_array_svc_poly)"
   ]
  },
  {
   "cell_type": "code",
   "execution_count": 127,
   "metadata": {},
   "outputs": [
    {
     "data": {
      "image/png": "[encoded data removed]",
      "text/plain": [
       "<matplotlib.figure.Figure at 0x123a14d30>"
      ]
     },
     "metadata": {},
     "output_type": "display_data"
    }
   ],
   "source": [
    "score_array_svc_poly = score_array_svc_poly.T\n",
    "averaged_score_poly_svc = []\n",
    "for i in range(7):\n",
    "    averaged_score_poly_svc.append(np.mean(score_array_svc_poly[i]))\n",
    "plt.figure()\n",
    "plt.plot(degrees, averaged_score_poly_svc)\n",
    "plt.xlabel('poly')\n",
    "plt.ylabel('averaged score over folds')\n",
    "plt.title('cross-validated plot for different degrees against the score')\n",
    "plt.grid(True)\n",
    "plt.show()"
   ]
  },
  {
   "cell_type": "code",
   "execution_count": 128,
   "metadata": {},
   "outputs": [
    {
     "name": "stdout",
     "output_type": "stream",
     "text": [
      "Score of the poly kernelised SVM with an optimal degree value on validation set 0.689128481581\n",
      "Score of the poly kernelised SVM with an optimal degree value on training set 0.783564261825\n"
     ]
    }
   ],
   "source": [
    "optimal_degree = degrees[averaged_score_poly_svc.index(max(averaged_score_poly_svc))]\n",
    "svc_poly_best = SVC(kernel='poly', degree = optimal_degree)\n",
    "svc_poly_best.fit(X_tr,y_tr)\n",
    "print(\"Score of the poly kernelised SVM with an optimal degree value on validation set\", svc_poly_best.score(X_val,y_val))\n",
    "print(\"Score of the poly kernelised SVM with an optimal degree value on training set\", svc_poly_best.score(X_tr,y_tr))"
   ]
  },
  {
   "cell_type": "markdown",
   "metadata": {},
   "source": [
    "### ========== Question 1.26 --- [4 marks] ==========\n",
    "\n",
    "You might have noticted that so far, we have used cross-validation for optimising the various tuning parameters (e.g. regularisation parameter in logistic regression, SVM kernel parameters) rather than hold-out validation, although we did have access to a validation set. Why do you think this is a good/bad idea? Give one advantage and one disadvantage of the two different approaches. Which one would you trust more in practice?"
   ]
  },
  {
   "cell_type": "markdown",
   "metadata": {},
   "source": [
    "*Your answer goes here*\n",
    "I think the usage of cross-validation set is a bad idea. Eventually we take an average of the 3 folds which mean all the training data again try to contribute to hyper-tuning. \n",
    "Hyper parameter tuning should be based on unseen data which increases the generalization score. Hold-out validation could be a good idea in generalizing the model so that we can use it on test data.\n",
    "\n",
    "Disadvantage of using K-Fold:\n",
    "Computational cost, reliability over training data.\n",
    "Advantage of using K-Fold:\n",
    "Varies over the whole training data\n",
    "\n",
    "Disadvantage of using holdout:\n",
    "If the validation set data is small, the variance might expand a lot.\n",
    "Advantage of using holdout:\n",
    "If the validation set is large, the model is reliable to hypertune over this holdout.\n",
    "\n",
    "Answer: Since, the validation set is large (1113 = 50% of size of training data), I would prefer hold-out data."
   ]
  },
  {
   "cell_type": "markdown",
   "metadata": {},
   "source": [
    "### ========== Question 1.27 --- [6 marks] ==========\n",
    "\n",
    "Reload the full training and validation data that contain all indicator variables for all object categories. Remove the `imgId` attribute but keep all of the class indicator variables in the dataset this time. Your training features should include all attributes except `is_person` which should be your target variable. \n",
    "\n",
    "Once again, use a [StandardScaler](http://scikit-learn.org/0.17/modules/generated/sklearn.preprocessing.StandardScaler.html) to standardise your training and validation features. Then train a Random Forest Classifier by using the entropy `criterion`, 500 `n_estimators`, and also set the `random_state` to 31. Report the classification accuracy on the training and validation sets.\n",
    "\n",
    "Similarly to what we did in Question 1.18, order the features by decreasing importance and display the 50 most important features. \n",
    "\n",
    "Finally, answer the following questions:\n",
    "* What do you notice by looking at the list of the best 50 features?\n",
    "* How does the performance differ with respect to the case when the additional class indicator variables are not present (Question 1.16)? Relate your observations to the observed feature ranking.\n",
    "* Would it be easy to make use of the results in practice? Briey explain your reasoning.\n",
    "\n",
    "*(Hint: you might want to look at some of the [images](http://www.inf.ed.ac.uk/teaching/courses/iaml/2014/assts/asst3/images.html) to justify your explanations.)*"
   ]
  },
  {
   "cell_type": "code",
   "execution_count": 149,
   "metadata": {},
   "outputs": [
    {
     "name": "stdout",
     "output_type": "stream",
     "text": [
      "RF classifier score on transformed data on validation set 0.711590296496\n",
      "RF classifier score on transformed data on training set 1.0\n"
     ]
    }
   ],
   "source": [
    "# Your code goes here\n",
    "trainA_final = pd.read_csv('datasets/train_images_partA.csv')\n",
    "validA_final = pd.read_csv('datasets/valid_images_partA.csv')\n",
    "X_trainA_final = trainA_final.drop(['is_person','imgId'],1)\n",
    "y_trainA_final = trainA_final['is_person']\n",
    "X_validA_final = validA_final.drop(['is_person','imgId'],1)\n",
    "y_validA_final = validA_final['is_person']\n",
    "\n",
    "scaler_final = StandardScaler().fit(X_trainA_final)\n",
    "X_trainA_final = scaler_final.transform(X_trainA_final)\n",
    "X_validA_final = scaler_final.transform(X_validA_final)\n",
    "\n",
    "clf = RandomForestClassifier(criterion = \"entropy\", random_state=31, n_estimators=500)\n",
    "clf.fit(X_trainA_final, y_trainA_final)\n",
    "print(\"RF classifier score on transformed data on validation set\",clf.score(X_validA_final, y_validA_final))\n",
    "print(\"RF classifier score on transformed data on training set\",clf.score(X_trainA_final, y_trainA_final))"
   ]
  },
  {
   "cell_type": "code",
   "execution_count": 150,
   "metadata": {},
   "outputs": [
    {
     "name": "stdout",
     "output_type": "stream",
     "text": [
      "is_cat 0.000165702969424\n",
      "is_bird 8.20898363294e-05\n",
      "dim21 0.00144966609068\n",
      "dim51 0.0020772673239\n",
      "dim360 0.00183600000718\n",
      "dim4 0.00185653819445\n",
      "dim76 0.00294289848794\n",
      "dim398 0.00163429644303\n",
      "dim283 0.00197748822618\n",
      "dim479 0.00170191128287\n",
      "dim263 0.00217515595293\n",
      "dim343 0.00253208466595\n",
      "dim423 0.0016770738024\n",
      "dim485 0.00157095700828\n",
      "dim254 0.0015625297967\n",
      "dim461 0.00217519416411\n",
      "dim222 0.00100143622369\n",
      "dim356 0.00246007393708\n",
      "dim74 0.00177229688818\n",
      "dim288 0.00262471691488\n",
      "dim214 0.00158720654842\n",
      "dim348 0.00217885006694\n",
      "dim330 0.00136613662379\n",
      "dim217 0.00149528354631\n",
      "dim483 0.00151543219294\n",
      "dim90 0.0\n",
      "dim274 0.00164336437971\n",
      "dim347 0.00378109590495\n",
      "dim17 0.0014864286637\n",
      "dim427 0.00184369218672\n",
      "dim35 0.00138358210709\n",
      "dim326 0.00158882693985\n",
      "dim73 0.00386033674817\n",
      "dim312 0.00173419180419\n",
      "dim48 0.00201798400117\n",
      "dim25 0.00184394181411\n",
      "dim315 0.00193599864975\n",
      "dim322 0.00207208822636\n",
      "dim329 0.00371254853142\n",
      "dim500 0.00299790355923\n",
      "dim134 0.00218313711489\n",
      "dim206 0.0026215120763\n",
      "is_aeroplane 0.00115098336142\n",
      "dim96 0.00176652730281\n",
      "dim353 0.00140921588777\n",
      "dim442 0.00188066504949\n",
      "dim77 0.00205361105545\n",
      "dim440 0.00144805798478\n",
      "dim171 0.00153322983785\n",
      "dim154 0.00199459431331\n"
     ]
    }
   ],
   "source": [
    "important_indices_final = (-clf.feature_importances_).argsort()[:50]\n",
    "for i in range(50):\n",
    "    print(trainA_final.columns.values[important_indices_final[i]+1], clf.feature_importances_[important_indices_final[i]+1])"
   ]
  },
  {
   "cell_type": "markdown",
   "metadata": {},
   "source": [
    "*Your answer goes here*\n",
    "The term important means they are correlated\n",
    "\n",
    "\n",
    "1. On enquiring the table columns of 'is_cat' and 'is_bird' and 'is_person', a negative correllation was found. Which means its unlikely to have both cats and person or birds and person in a single picture. \n",
    "\n",
    "2. Only three class indicator features are included into the important feature list comparing with 1.18. Rest of the class indicators are not correlated much. Anyways, including this we have increased 2% in the score on validation set.\n",
    "\n",
    "3. Removing other features and class indicators and training might increase the speed atleast and they do not seem to have a greater impact (just 2% accuracy). Increasing number of features in a random forest will exponentially increase the number of randomly split trees in the ensemble. So, its not worth it to execute in practice."
   ]
  },
  {
   "cell_type": "markdown",
   "metadata": {},
   "source": [
    "## Mini challenge [30%]"
   ]
  },
  {
   "cell_type": "markdown",
   "metadata": {},
   "source": [
    "*Important: You are allowed to write up to a maximum of 600 words in this part of the assignment. The thoroughness of the exploration and the quality of the resulting discussion is just as important as the final classification performance of your chosen method(s) and credit will be divided accordingly.*"
   ]
  },
  {
   "cell_type": "markdown",
   "metadata": {},
   "source": [
    "In this final part of the assignment we will have a mini object-recognition challenge. Using the data provided you are asked to find the best classiffier for the person/no person classification task. You can apply any preprocessing steps to the data that you think fit and employ any classifier you like (with the provison that you can explain what the classifier is/preprocessing steps are doing). You can also employ any lessons learnt during the course, either from previous Assignments, the Labs or the lecture material to try and squeeze out as much performance as you possibly can. The only restriction is that all steps must be performed in `Python` by using the `numpy`, `pandas` and `sklearn` packages. You can also make use of `matplotlib` and `seaborn` for visualisation. "
   ]
  },
  {
   "cell_type": "markdown",
   "metadata": {},
   "source": [
    "**Important:** The classification performance metric that we will use for this part is the *cross-entropy* or *logarithmic loss* (see the labs). You should familiarise yourself with the metric by reading the `sklearn` [user guide](http://scikit-learn.org/stable/modules/model_evaluation.html#log-loss) and [documentation](http://scikit-learn.org/stable/modules/generated/sklearn.metrics.log_loss.html#sklearn.metrics.log_loss). To estimate this metric you will need to evaluate probability outputs, as opposed to discrete predictions which we have used so far to compute classification accuracies. Most models in `sklearn` implement a `predict_proba()` method which returns the probabilities for each class. For instance, if your test set consists of `N` datapoints and there are `K` classes, the method will return a `N` x `K` matrix."
   ]
  },
  {
   "cell_type": "markdown",
   "metadata": {},
   "source": [
    "We provide you with three new data sets: a training set (`train_images_partB.csv`), a validation set (`valid_images_partB.csv`), and a test set (`test_images_partB.csv`). You must use the former two for training and evaluating your models (as you see fit). Once you have chosen your favourite model (and pre-processing steps) you should apply it to the test set (for which no labels are provided). Estimate the posterior proabilities for the data points in the test set and submit your results as part of your answer. Your results will be evaluated in terms of the logarithmic loss metric. You also need to submit a brief description of the approaches you considered, your suggested final approach, and a short explanation of why you chose it. The thoroughness of the exploration and the quality of the resulting discussion is just as important as the final score of your chosen method(s) and credit will be divided accordingly.\n",
    "\n",
    "*Hint: Feature engineering, feature combination, model combination and model parameter optimization can significantly improve performance.*"
   ]
  },
  {
   "cell_type": "markdown",
   "metadata": {},
   "source": [
    "**How to submit your results**: Store the estimated probabilities for the data points in the test set in a 2D numpy array. Then execute the provided cell at the end of this notebook which uses a provided `save_predictions` function to export your results into a `.txt` file (the function will return an error if the provided array has not the right shape). The `.txt` file will be saved where your notebook lives. Submit this file along with your notebook as detailed at the top of this file."
   ]
  },
  {
   "cell_type": "markdown",
   "metadata": {},
   "source": [
    "*Your answer goes here (max. 600 words)*\n",
    "\n"
   ]
  },
  {
   "cell_type": "code",
   "execution_count": 152,
   "metadata": {
    "collapsed": true
   },
   "outputs": [],
   "source": [
    "# Your code goes here\n",
    "trainChallenge = pd.read_csv('datasets/train_images_partB.csv')\n",
    "validChallenge = pd.read_csv('datasets/valid_images_partB.csv')\n",
    "testChallenge = pd.read_csv('datasets/test_images_partB.csv')"
   ]
  },
  {
   "cell_type": "code",
   "execution_count": 154,
   "metadata": {},
   "outputs": [],
   "source": [
    "trainChallenge_X = trainChallenge.drop('is_person', 1)\n",
    "trainChallenge_y = trainChallenge['is_person']\n",
    "validChallenge_X = validChallenge.drop('is_person', 1)\n",
    "validChallenge_y = validChallenge['is_person']\n",
    "testChallenge_X = testChallenge.drop('is_person', 1)\n",
    "testChallenge_y = testChallenge['is_person']"
   ]
  },
  {
   "cell_type": "code",
   "execution_count": 157,
   "metadata": {},
   "outputs": [
    {
     "name": "stdout",
     "output_type": "stream",
     "text": [
      "         imgId      dim1      dim2      dim3      dim4      dim5      dim6  \\\n",
      "0  2008_000008  0.002232  0.000558  0.002790  0.000837  0.001674  0.001953   \n",
      "1  2008_000015  0.001563  0.000391  0.007422  0.003516  0.003906  0.005078   \n",
      "2  2008_000019  0.000521  0.000000  0.000000  0.001042  0.001563  0.005729   \n",
      "3  2008_000023  0.002976  0.002232  0.004464  0.000372  0.000372  0.002232   \n",
      "4  2008_000028  0.001359  0.000340  0.001359  0.000340  0.001359  0.002038   \n",
      "\n",
      "       dim7      dim8      dim9      ...       is_chair  is_cow  \\\n",
      "0  0.001395  0.002232  0.003627      ...              0       0   \n",
      "1  0.001953  0.002344  0.001953      ...              0       0   \n",
      "2  0.000521  0.002083  0.003646      ...              0       0   \n",
      "3  0.000000  0.003720  0.000000      ...              0       0   \n",
      "4  0.002378  0.000000  0.003397      ...              0       0   \n",
      "\n",
      "   is_diningtable  is_dog  is_horse  is_motorbike  is_pottedplant  is_sheep  \\\n",
      "0               0       0         1             0               0         0   \n",
      "1               0       0         0             0               0         0   \n",
      "2               0       1         0             0               0         0   \n",
      "3               0       0         0             0               0         0   \n",
      "4               0       0         0             0               0         0   \n",
      "\n",
      "   is_sofa  is_tvmonitor  \n",
      "0        0             0  \n",
      "1        0             0  \n",
      "2        0             0  \n",
      "3        0             1  \n",
      "4        0             0  \n",
      "\n",
      "[5 rows x 519 columns]\n",
      "<bound method NDFrame.describe of             imgId      dim1      dim2      dim3      dim4      dim5      dim6  \\\n",
      "0     2008_000008  0.002232  0.000558  0.002790  0.000837  0.001674  0.001953   \n",
      "1     2008_000015  0.001563  0.000391  0.007422  0.003516  0.003906  0.005078   \n",
      "2     2008_000019  0.000521  0.000000  0.000000  0.001042  0.001563  0.005729   \n",
      "3     2008_000023  0.002976  0.002232  0.004464  0.000372  0.000372  0.002232   \n",
      "4     2008_000028  0.001359  0.000340  0.001359  0.000340  0.001359  0.002038   \n",
      "5     2008_000033  0.000000  0.006324  0.000372  0.000372  0.000372  0.000372   \n",
      "6     2008_000036  0.000340  0.000000  0.004416  0.000340  0.000679  0.006114   \n",
      "7     2008_000037  0.000837  0.002232  0.000279  0.000279  0.000837  0.000000   \n",
      "8     2008_000041  0.002378  0.001359  0.004755  0.001019  0.003736  0.001359   \n",
      "9     2008_000045  0.001019  0.000340  0.006454  0.001698  0.001359  0.003736   \n",
      "10    2008_000053  0.001359  0.000000  0.003397  0.001698  0.004076  0.004076   \n",
      "11    2008_000060  0.003827  0.000425  0.011054  0.003401  0.001276  0.005102   \n",
      "12    2008_000066  0.002772  0.000000  0.011593  0.002520  0.001260  0.003528   \n",
      "13    2008_000070  0.002378  0.001019  0.006114  0.001359  0.001019  0.000340   \n",
      "14    2008_000074  0.001019  0.000000  0.001698  0.002378  0.002038  0.001698   \n",
      "15    2008_000085  0.001019  0.002717  0.008152  0.003057  0.000000  0.002038   \n",
      "16    2008_000089  0.001359  0.000000  0.005774  0.001019  0.001359  0.000340   \n",
      "17    2008_000093  0.002378  0.000000  0.006114  0.000340  0.005095  0.001019   \n",
      "18    2008_000095  0.001698  0.000000  0.001019  0.001359  0.002378  0.009511   \n",
      "19    2008_000096  0.002717  0.000000  0.005095  0.002378  0.002717  0.002378   \n",
      "20    2008_000097  0.002604  0.000372  0.001116  0.001116  0.000744  0.001860   \n",
      "21    2008_000099  0.002486  0.000355  0.002131  0.003551  0.002486  0.000355   \n",
      "22    2008_000103  0.000000  0.000000  0.003057  0.002717  0.000340  0.003397   \n",
      "23    2008_000105  0.001698  0.001359  0.002038  0.002717  0.002378  0.003057   \n",
      "24    2008_000109  0.002378  0.000000  0.009171  0.001019  0.001359  0.003397   \n",
      "25    2008_000112  0.002378  0.002378  0.005774  0.001698  0.003736  0.001359   \n",
      "26    2008_000128  0.002378  0.000340  0.006793  0.002378  0.004416  0.000679   \n",
      "27    2008_000131  0.000000  0.000411  0.000000  0.001234  0.000411  0.002056   \n",
      "28    2008_000132  0.000340  0.001359  0.003397  0.001698  0.000340  0.000340   \n",
      "29    2008_000141  0.002976  0.000744  0.001116  0.004092  0.003348  0.002232   \n",
      "...           ...       ...       ...       ...       ...       ...       ...   \n",
      "2083  2008_008649  0.003057  0.000340  0.005435  0.002378  0.003736  0.002717   \n",
      "2084  2008_008654  0.000679  0.000000  0.006793  0.000679  0.001359  0.000679   \n",
      "2085  2008_008665  0.002378  0.000340  0.003397  0.001698  0.002038  0.005435   \n",
      "2086  2008_008666  0.000651  0.000000  0.000000  0.004883  0.001628  0.001953   \n",
      "2087  2008_008668  0.002604  0.006771  0.002604  0.002083  0.002083  0.000521   \n",
      "2088  2008_008671  0.000340  0.001698  0.001698  0.002378  0.001359  0.001359   \n",
      "2089  2008_008673  0.000679  0.000000  0.001359  0.002378  0.000340  0.006114   \n",
      "2090  2008_008674  2.349405  6.574612  7.554081  2.281313  2.682286  5.469664   \n",
      "2091  2008_008681  0.001420  0.000355  0.007812  0.001420  0.001065  0.000355   \n",
      "2092  2008_008685  0.001019  0.000679  0.001019  0.001359  0.001359  0.002378   \n",
      "2093  2008_008689  0.002038  0.000000  0.004416  0.002038  0.002038  0.002378   \n",
      "2094  2008_008691  0.002717  0.000340  0.001019  0.003057  0.001359  0.004076   \n",
      "2095  2008_008694  0.878429  3.512905  7.179959  0.502295  3.096326  0.966962   \n",
      "2096  2008_008696  0.004464  0.000000  0.000372  0.001116  0.003348  0.004836   \n",
      "2097  2008_008697  0.000000  0.001698  0.005774  0.001359  0.001698  0.004416   \n",
      "2098  2008_008701  0.002378  0.000340  0.002378  0.002378  0.003397  0.004416   \n",
      "2099  2008_008706  0.000340  0.000000  0.000679  0.002038  0.000000  0.004076   \n",
      "2100  2008_008707  0.001488  0.000744  0.000744  0.000372  0.003720  0.001860   \n",
      "2101  2008_008714  0.001019  0.000340  0.007133  0.000000  0.003057  0.001019   \n",
      "2102  2008_008717  0.001116  0.002232  0.000372  0.002604  0.004464  0.002604   \n",
      "2103  2008_008719  0.001019  0.000340  0.003057  0.001359  0.002378  0.001359   \n",
      "2104  2008_008725  0.000340  0.000000  0.002717  0.001019  0.001698  0.001359   \n",
      "2105  2008_008735  0.001116  0.001860  0.001488  0.001116  0.003348  0.001860   \n",
      "2106  2008_008744  0.003397  0.000000  0.001019  0.002717  0.004416  0.003057   \n",
      "2107  2008_008745  0.001359  0.000000  0.000340  0.000340  0.004755  0.004076   \n",
      "2108  2008_008748  0.004972  0.000355  0.007102  0.002841  0.001420  0.003906   \n",
      "2109  2008_008749  0.003720  0.003348  0.001860  0.001488  0.006696  0.001116   \n",
      "2110  2008_008757  0.002378  0.000340  0.012228  0.001698  0.001359  0.002038   \n",
      "2111  2008_008770  0.005952  0.000744  0.002232  0.005208  0.006696  0.001488   \n",
      "2112  2008_008773  0.000679  0.000000  0.002717  0.004416  0.002038  0.001359   \n",
      "\n",
      "          dim7      dim8      dim9      ...       is_chair  is_cow  \\\n",
      "0     0.001395  0.002232  0.003627      ...              0       0   \n",
      "1     0.001953  0.002344  0.001953      ...              0       0   \n",
      "2     0.000521  0.002083  0.003646      ...              0       0   \n",
      "3     0.000000  0.003720  0.000000      ...              0       0   \n",
      "4     0.002378  0.000000  0.003397      ...              0       0   \n",
      "5     0.000744  0.008185  0.000372      ...              0       0   \n",
      "6     0.001359  0.002717  0.003057      ...              0       0   \n",
      "7     0.000279  0.006696  0.000000      ...              0       0   \n",
      "8     0.001019  0.004076  0.003397      ...              1       0   \n",
      "9     0.000000  0.004076  0.000000      ...              0       0   \n",
      "10    0.000000  0.000679  0.000000      ...              0       0   \n",
      "11    0.000850  0.004252  0.002126      ...              0       0   \n",
      "12    0.000000  0.000252  0.001512      ...              0       0   \n",
      "13    0.001359  0.003397  0.004076      ...              1       0   \n",
      "14    0.000679  0.001359  0.000679      ...              0       0   \n",
      "15    0.002378  0.003397  0.000679      ...              0       0   \n",
      "16    0.002717  0.003736  0.001359      ...              1       0   \n",
      "17    0.002038  0.004416  0.000000      ...              1       0   \n",
      "18    0.000340  0.001359  0.004076      ...              0       0   \n",
      "19    0.001698  0.001359  0.004076      ...              0       0   \n",
      "20    0.000744  0.000000  0.002976      ...              0       0   \n",
      "21    0.001776  0.000355  0.001065      ...              0       0   \n",
      "22    0.000340  0.000000  0.003057      ...              0       0   \n",
      "23    0.001019  0.000000  0.001359      ...              0       0   \n",
      "24    0.001019  0.000340  0.002038      ...              0       0   \n",
      "25    0.001019  0.005774  0.000679      ...              0       0   \n",
      "26    0.001698  0.011549  0.004416      ...              0       0   \n",
      "27    0.000000  0.000411  0.028372      ...              0       0   \n",
      "28    0.000340  0.000340  0.001698      ...              0       0   \n",
      "29    0.000372  0.002232  0.001860      ...              0       0   \n",
      "...        ...       ...       ...      ...            ...     ...   \n",
      "2083  0.004755  0.009511  0.002717      ...              1       0   \n",
      "2084  0.001019  0.000340  0.003057      ...              0       1   \n",
      "2085  0.000340  0.002038  0.005095      ...              0       0   \n",
      "2086  0.000651  0.000326  0.004232      ...              0       0   \n",
      "2087  0.001563  0.001042  0.000000      ...              0       0   \n",
      "2088  0.001698  0.001359  0.001698      ...              0       0   \n",
      "2089  0.000679  0.000000  0.005095      ...              0       0   \n",
      "2090  1.608413  2.363320  8.748475      ...              0       0   \n",
      "2091  0.002841  0.001420  0.000710      ...              0       0   \n",
      "2092  0.000340  0.000000  0.006454      ...              0       1   \n",
      "2093  0.003057  0.005774  0.000679      ...              0       0   \n",
      "2094  0.002378  0.000679  0.002038      ...              0       0   \n",
      "2095  7.710764  2.725708  5.875317      ...              1       0   \n",
      "2096  0.001116  0.001488  0.000744      ...              0       0   \n",
      "2097  0.000000  0.002378  0.003057      ...              0       0   \n",
      "2098  0.002038  0.001698  0.003397      ...              0       0   \n",
      "2099  0.000000  0.000000  0.002378      ...              0       0   \n",
      "2100  0.002232  0.000744  0.004092      ...              0       0   \n",
      "2101  0.001698  0.000679  0.001359      ...              0       0   \n",
      "2102  0.002232  0.000372  0.004464      ...              0       0   \n",
      "2103  0.000000  0.001698  0.000679      ...              0       0   \n",
      "2104  0.001698  0.002038  0.001019      ...              0       0   \n",
      "2105  0.001488  0.002232  0.001116      ...              0       0   \n",
      "2106  0.000000  0.000000  0.004416      ...              0       0   \n",
      "2107  0.001359  0.000340  0.003397      ...              0       0   \n",
      "2108  0.001776  0.001420  0.001420      ...              0       0   \n",
      "2109  0.001116  0.000372  0.001116      ...              0       0   \n",
      "2110  0.000340  0.002038  0.005774      ...              0       0   \n",
      "2111  0.000744  0.002232  0.001488      ...              0       0   \n",
      "2112  0.000340  0.002038  0.002038      ...              0       0   \n",
      "\n",
      "      is_diningtable  is_dog  is_horse  is_motorbike  is_pottedplant  \\\n",
      "0                  0       0         1             0               0   \n",
      "1                  0       0         0             0               0   \n",
      "2                  0       1         0             0               0   \n",
      "3                  0       0         0             0               0   \n",
      "4                  0       0         0             0               0   \n",
      "5                  0       0         0             0               0   \n",
      "6                  0       0         0             0               0   \n",
      "7                  0       0         0             0               0   \n",
      "8                  1       0         0             0               0   \n",
      "9                  0       0         0             0               0   \n",
      "10                 0       1         0             0               0   \n",
      "11                 0       0         0             0               0   \n",
      "12                 0       1         0             0               0   \n",
      "13                 0       0         0             0               0   \n",
      "14                 0       0         0             0               0   \n",
      "15                 0       0         0             0               0   \n",
      "16                 0       0         0             0               0   \n",
      "17                 0       0         0             0               0   \n",
      "18                 0       0         0             0               0   \n",
      "19                 0       0         0             0               0   \n",
      "20                 0       0         0             0               0   \n",
      "21                 0       1         0             0               0   \n",
      "22                 0       0         0             0               0   \n",
      "23                 0       0         0             0               0   \n",
      "24                 0       0         0             1               0   \n",
      "25                 0       0         0             0               0   \n",
      "26                 0       0         0             0               0   \n",
      "27                 0       0         0             0               0   \n",
      "28                 0       0         0             0               0   \n",
      "29                 0       0         1             0               0   \n",
      "...              ...     ...       ...           ...             ...   \n",
      "2083               0       0         0             0               0   \n",
      "2084               0       0         0             0               0   \n",
      "2085               0       0         0             0               0   \n",
      "2086               0       0         0             0               0   \n",
      "2087               0       0         0             0               0   \n",
      "2088               0       0         0             0               0   \n",
      "2089               0       0         0             0               0   \n",
      "2090               0       0         0             0               0   \n",
      "2091               0       0         0             0               0   \n",
      "2092               0       0         0             0               0   \n",
      "2093               0       0         0             0               1   \n",
      "2094               0       0         0             0               0   \n",
      "2095               0       0         0             0               0   \n",
      "2096               0       0         0             0               0   \n",
      "2097               0       0         0             0               0   \n",
      "2098               0       0         0             0               0   \n",
      "2099               0       0         0             0               0   \n",
      "2100               0       0         0             0               0   \n",
      "2101               0       1         0             0               0   \n",
      "2102               0       0         0             0               0   \n",
      "2103               0       0         0             0               0   \n",
      "2104               0       0         0             0               0   \n",
      "2105               0       0         0             0               0   \n",
      "2106               0       0         0             0               0   \n",
      "2107               0       0         0             0               0   \n",
      "2108               0       0         0             0               0   \n",
      "2109               0       0         0             0               0   \n",
      "2110               0       0         0             0               0   \n",
      "2111               0       0         0             0               0   \n",
      "2112               1       0         0             0               0   \n",
      "\n",
      "      is_sheep  is_sofa  is_tvmonitor  \n",
      "0            0        0             0  \n",
      "1            0        0             0  \n",
      "2            0        0             0  \n",
      "3            0        0             1  \n",
      "4            0        0             0  \n",
      "5            0        0             0  \n",
      "6            0        0             0  \n",
      "7            0        0             0  \n",
      "8            0        0             0  \n",
      "9            0        0             0  \n",
      "10           0        0             0  \n",
      "11           0        0             0  \n",
      "12           0        0             0  \n",
      "13           0        0             1  \n",
      "14           0        0             0  \n",
      "15           0        0             0  \n",
      "16           0        0             0  \n",
      "17           0        1             1  \n",
      "18           0        0             0  \n",
      "19           0        0             0  \n",
      "20           0        0             0  \n",
      "21           1        0             0  \n",
      "22           0        0             0  \n",
      "23           0        0             0  \n",
      "24           0        0             0  \n",
      "25           0        0             0  \n",
      "26           0        1             0  \n",
      "27           0        0             0  \n",
      "28           0        0             0  \n",
      "29           0        0             0  \n",
      "...        ...      ...           ...  \n",
      "2083         0        1             1  \n",
      "2084         0        0             0  \n",
      "2085         1        0             0  \n",
      "2086         1        0             0  \n",
      "2087         1        0             0  \n",
      "2088         0        0             0  \n",
      "2089         0        0             0  \n",
      "2090         0        0             0  \n",
      "2091         0        0             0  \n",
      "2092         0        0             0  \n",
      "2093         0        0             0  \n",
      "2094         0        0             0  \n",
      "2095         0        0             0  \n",
      "2096         0        0             0  \n",
      "2097         0        0             0  \n",
      "2098         0        0             0  \n",
      "2099         0        0             0  \n",
      "2100         0        0             0  \n",
      "2101         1        0             0  \n",
      "2102         0        0             0  \n",
      "2103         0        0             0  \n",
      "2104         0        0             0  \n",
      "2105         0        0             0  \n",
      "2106         1        0             0  \n",
      "2107         0        0             0  \n",
      "2108         0        0             0  \n",
      "2109         0        0             0  \n",
      "2110         0        0             0  \n",
      "2111         0        0             0  \n",
      "2112         0        0             0  \n",
      "\n",
      "[2113 rows x 519 columns]>\n",
      "(2113, 519)\n"
     ]
    }
   ],
   "source": [
    "print(trainChallenge_X.head(5))\n",
    "print(trainChallenge_X.describe)\n",
    "print(trainChallenge_X.shape)\n",
    "attributes_challenge = trainChallenge_X.columns.values"
   ]
  },
  {
   "cell_type": "code",
   "execution_count": null,
   "metadata": {
    "collapsed": true
   },
   "outputs": [],
   "source": [
    "logistic_challenge = LogisticRegression(solver  =)"
   ]
  },
  {
   "cell_type": "code",
   "execution_count": 28,
   "metadata": {},
   "outputs": [
    {
     "ename": "NameError",
     "evalue": "name 'test_images_partB_pred_proba' is not defined",
     "output_type": "error",
     "traceback": [
      "\u001b[0;31m---------------------------------------------------------------------------\u001b[0m",
      "\u001b[0;31mNameError\u001b[0m                                 Traceback (most recent call last)",
      "\u001b[0;32m<ipython-input-28-ecd997ed47cd>\u001b[0m in \u001b[0;36m<module>\u001b[0;34m()\u001b[0m\n\u001b[1;32m     10\u001b[0m \u001b[0;31m# with the name of the array which contains the probability\u001b[0m\u001b[0;34m\u001b[0m\u001b[0;34m\u001b[0m\u001b[0m\n\u001b[1;32m     11\u001b[0m \u001b[0;31m# estimates for the data in the test set.\u001b[0m\u001b[0;34m\u001b[0m\u001b[0;34m\u001b[0m\u001b[0m\n\u001b[0;32m---> 12\u001b[0;31m \u001b[0msave_predictions\u001b[0m\u001b[0;34m(\u001b[0m\u001b[0mtest_images_partB_pred_proba\u001b[0m\u001b[0;34m)\u001b[0m\u001b[0;34m\u001b[0m\u001b[0m\n\u001b[0m",
      "\u001b[0;31mNameError\u001b[0m: name 'test_images_partB_pred_proba' is not defined"
     ]
    }
   ],
   "source": [
    "# Execute this cell to export your results\n",
    "from numpy import savetxt\n",
    "def save_predictions(pred_proba):\n",
    "    if pred_proba.shape != (1114,2):\n",
    "        raise ValueError('Predicted probabilities array is not the right shape.')\n",
    "    \n",
    "    savetxt('assignment_3_predictions.txt', pred_proba)\n",
    "\n",
    "# You need to replace \"test_images_partB_pred_proba\"\n",
    "# with the name of the array which contains the probability \n",
    "# estimates for the data in the test set.\n",
    "save_predictions(test_images_partB_pred_proba) "
   ]
  },
  {
   "cell_type": "markdown",
   "metadata": {
    "collapsed": true
   },
   "source": [
    "# Appendix"
   ]
  },
  {
   "cell_type": "markdown",
   "metadata": {},
   "source": [
    "## More information about visual words"
   ]
  },
  {
   "cell_type": "markdown",
   "metadata": {},
   "source": [
    "Visual words are based on [Scale-invariant feature transforms (SIFT)](https://en.wikipedia.org/wiki/Scale-invariant_feature_transform). SIFT features are essentially local orientation histograms and capture the properties of small image regions. They possess attractive invariance properties which make them well suited for our task (you can read more about SIFT features in [D.Lowe, IJCV 60(2):91- 110, 2004](http://link.springer.com/article/10.1023/B:VISI.0000029664.99615.94), but the details don't matter for the purpose of this assignment). Each SIFT feature is a 128 dimensional vector. From each image many SIFT features are extracted, typically > 2500 per image (features are extracted at regular intervals using a 15 pixel grid and at 4 different scales). To obtain visual words a representative subset of all extracted SIFT features from all images is chosen and clustered with k-means using 500 centres (such use of the k-means algorithm will be discussed in detail during the lecture). These 500 cluster centres form our visual words. The representation of a single image is obtained by first assigning each SIFT feature extracted from the image to the appropriate cluster (i.e. we determine the visual word corresponding to each feature by picking the closest cluster centre). We then count the number of features from that image assigned to each cluster (i.e. we determine how often each visual word is present in the image). This results in a 500 dimensional count vector for each image (one dimension for each visual word). The normalized version of this count vector gives the final representation of the image (normalized means that we divide the count vector by the total number of visual words in the image, i.e. the normalized counts sum to 1 for each image)"
   ]
  }
 ],
 "metadata": {
  "anaconda-cloud": {},
  "kernelspec": {
   "display_name": "Python 3",
   "language": "python",
   "name": "python3"
  },
  "language_info": {
   "codemirror_mode": {
    "name": "ipython",
    "version": 3
   },
   "file_extension": ".py",
   "mimetype": "text/x-python",
   "name": "python",
   "nbconvert_exporter": "python",
   "pygments_lexer": "ipython3",
   "version": "3.6.1"
  }
 },
 "nbformat": 4,
 "nbformat_minor": 1
}
